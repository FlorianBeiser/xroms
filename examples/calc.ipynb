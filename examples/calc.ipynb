{
 "cells": [
  {
   "cell_type": "code",
   "execution_count": 4,
   "metadata": {},
   "outputs": [],
   "source": [
    "import xarray as xr\n",
    "import xgcm\n",
    "import numpy as np\n",
    "import xroms\n",
    "import matplotlib.pyplot as plt"
   ]
  },
  {
   "cell_type": "markdown",
   "metadata": {},
   "source": [
    "# How to calculate with `xarray` and `xroms`\n",
    "\n",
    "Here we demonstrate a number of calculations built into `xroms`, through accessors to `DataArrays` and `Datasets`.\n",
    "\n",
    "## `xarray` Datasets\n",
    "Use an `xarray` accessor in `xroms` to easily perform calculations with syntax \n",
    "\n",
    "    ds.xroms.[method]\n",
    "    \n",
    "Importantly, the `xroms` accessor to a `Dataset` is initialized with an `xgcm` grid object, stored at `ds.xroms.grid`, which is used to perform the basic grid calculations. More on this under \"How to set up grid\" below.\n",
    "\n",
    "The built-in native calculations are properties of the `xroms` accessor and are not functions.\n",
    "\n",
    "The accessor functions can take in the horizontal then vertical grid label you want the calculation to be on as options:\n",
    "\n",
    "    ds.xroms.ddz('u', hcoord='rho', scoord='s_rho')  # to make sure result is on rho horizontal grid and s_rho vertical grid, a function\n",
    "    \n",
    "or\n",
    "\n",
    "    ds.xroms.dudz  # return on native grid it is calculated on, a property\n",
    "\n",
    "Other inputs are available for functions when the calculation involves a derivative and there is a choice for how to treat the boundary (`hboundary` and `hfill_value` for horizontal calculations and `sboundary` and `sfill_value` for vertical calculations). More information on those inputs can be found in the docs for `xgcm` such as under found under:\n",
    "\n",
    "    ds.xroms.grid.interp?\n",
    "\n",
    "\n",
    "## `xarray` DataArrays\n",
    "\n",
    "A few of the more basic methods in `xroms` are available to `DataArrays` too. If the Dataset was read in using an `xroms` load function, any of the `DataArrays` has its grid stored in `da.attrs['grid']`. So, the built-in `xroms` methods for `DataArrays` do not require the grid object to be input.\n",
    "\n",
    "    ds.temp.xroms.to_grid(hcoord='psi', scoord='s_w')"
   ]
  },
  {
   "cell_type": "markdown",
   "metadata": {},
   "source": [
    "## Attributes\n",
    "\n",
    "The intent of `xroms` is to be use `xarray` Datasets and DataArrays for calculations. `xroms` provides attributes as metadata to track calculations, provide context, and to be used as indicators for plots. The `xgcm` grid object that is used in many calculations is also passed around as an attribute in DataArrays.\n",
    "\n",
    "The option to always keep attributes in `xarray` is turned on in the call to `xroms` because the functionality is assumed.\n",
    "\n",
    "## `cf-xarray`\n",
    "\n",
    "Some functionality is added by using the package `cf-xarray`. Necessary attributes are added to datasets read in with `open_netcdf` and `open_zarr` and added in relevant functions."
   ]
  },
  {
   "cell_type": "markdown",
   "metadata": {},
   "source": [
    "### Load in data\n",
    "\n",
    "More information at in [input/output notebook](io.ipynb)"
   ]
  },
  {
   "cell_type": "code",
   "execution_count": 25,
   "metadata": {},
   "outputs": [],
   "source": [
    "# Helpful to have local file for this\n",
    "url = 'http://pong.tamu.edu:8080/thredds/fileServer/forecast_latest/txla2_his_a_latest.nc'\n",
    "fname = url.split('/')[-1]\n",
    "chunks = {'ocean_time': 1}\n",
    "\n",
    "import os\n",
    "if os.path.exists(fname):\n",
    "    ds = xroms.open_netcdf(fname, chunks=chunks)\n",
    "else:\n",
    "    from subprocess import call\n",
    "    call(['wget', url])\n",
    "    ds = xroms.open_netcdf(fname, chunks=chunks)\n",
    "    \n",
    "# Alternatively, use file through thredds:\n",
    "# loc = 'http://barataria.tamu.edu:8080/thredds/dodsC/forecast_latest/txla2_his_f_latest.nc'\n",
    "# chunks = {'ocean_time':1}\n",
    "# ds = xr.open_dataset(loc, chunks=chunks)"
   ]
  },
  {
   "cell_type": "markdown",
   "metadata": {},
   "source": [
    "## `xgcm` grid and extra ROMS coordinates"
   ]
  },
  {
   "cell_type": "markdown",
   "metadata": {},
   "source": [
    "### How to set up grid\n",
    "\n",
    "The package `xcgm` has many nice grid functions for ROMS users, however, a bit of set up is required to connect from ROMS to MITgcm output. This grid set up does that.\n",
    "\n",
    "The `grid` object contains metrics (X, Y, Z) with distances for each grid ('dx', 'dx_u', 'dx_v', 'dx_psi', and 'dz', 'dz_u', 'dz_v', 'dz_w', 'dz_w_u', 'dz_w_v', 'dz_psi', 'dz_w_psi'), and all of these as grid coordinates too. \n",
    "\n",
    "Coordinates are added to the dataset when `xroms.open_netcdf`, `xroms.open_mfnetcdf`, or `xroms.open_zarr` are used and the grid object is stored in the `DataArray`  attributes at `da.attrs['grid']`, and in the Dataset through the accessor (`ds.xroms.grid`).\n",
    "\n",
    "You can also explicitly set up the grid with:\n",
    "\n",
    "> ds, grid = xroms.roms_dataset(ds)\n",
    "\n",
    "This process sets up all sorts of useful coordinate variables."
   ]
  },
  {
   "cell_type": "markdown",
   "metadata": {},
   "source": [
    "### Grid lengths\n",
    "\n",
    "Distances between grid nodes on every ROMS grid are calculated in the setup process using `xroms` (that is, by reading in your output using as `xroms` load function or subsequently running `xroms.roms_dataset`). \n",
    "\n",
    "* Horizontal grids:\n",
    " * inverse distances between nodes are also given in an analogous way (*i.e.*, `ds.pm` and `ds.pn_psi`)\n",
    " * distances between nodes are given in meters by dx's and dy's stored in ds, such as: `ds.dx` for the `rho` grid and `ds.dy_psi` for the `psi` grid, calculated from inverse distances\n",
    "* Vertical grids:\n",
    " * There are lazily-evaluated z-coordinates for both `rho` and `w` vertical grids for each horizontal grid.\n",
    " * There are also arrays of z distances between nodes, called dz's, available for each combination of grids. For example, there is `ds.dz_u` for z distances on the `u` horizontal and `rho` vertical grid, and there is `ds.dz_w_v` for z distances on the `v` horizontal and `w` vertical grid. These are `[ocean_time x s_* x eta_* x xi_*]` arrays.\n",
    " * Arrays of z distances relative to a sea level of 0 are also available. They have analogous names to the previous entries but with \"0\" on the end. They are computationally faster to use because they do not vary in time. They are also less accurate for this reason but it depends on your use as to how much that matters."
   ]
  },
  {
   "cell_type": "markdown",
   "metadata": {},
   "source": [
    "### Grid areas\n",
    "\n",
    "* Horizontal\n",
    "  * rho grid `ds.dA`, psi grid `ds.dA_psi`, u grid `ds.dA_u`, v grid `ds.dA_v`\n",
    "* Vertical\n",
    "  * These aren't built in but can easily be calculated. For example, for cell areas in the x direction on the rho horizontal and rho vertical grids: `ds.dx * ds.dz`."
   ]
  },
  {
   "cell_type": "markdown",
   "metadata": {},
   "source": [
    "### Grid volumes\n",
    "\n",
    "Time varying: All 8 combinations of 4 horizontal grids and 2 vertical grids are available, such as: `ds.dV` (rho horizontal, rho vertical), and `ds.dV_w_v` (w vertical, v horizontal). \n",
    "\n",
    "A user can easily calculate the same but for time-constant dz's, for example as: \n",
    "\n",
    "    ds['dV_w'] = ds.dx * ds.dy * ds.dz_w0  # w vertical, rho horizontal, constant in time\n",
    "    \n",
    "To calculate the full domain volume in time, you can do:"
   ]
  },
  {
   "cell_type": "code",
   "execution_count": 27,
   "metadata": {},
   "outputs": [
    {
     "data": {
      "text/html": [
       "<div><svg style=\"position: absolute; width: 0; height: 0; overflow: hidden\">\n",
       "<defs>\n",
       "<symbol id=\"icon-database\" viewBox=\"0 0 32 32\">\n",
       "<path d=\"M16 0c-8.837 0-16 2.239-16 5v4c0 2.761 7.163 5 16 5s16-2.239 16-5v-4c0-2.761-7.163-5-16-5z\"></path>\n",
       "<path d=\"M16 17c-8.837 0-16-2.239-16-5v6c0 2.761 7.163 5 16 5s16-2.239 16-5v-6c0 2.761-7.163 5-16 5z\"></path>\n",
       "<path d=\"M16 26c-8.837 0-16-2.239-16-5v6c0 2.761 7.163 5 16 5s16-2.239 16-5v-6c0 2.761-7.163 5-16 5z\"></path>\n",
       "</symbol>\n",
       "<symbol id=\"icon-file-text2\" viewBox=\"0 0 32 32\">\n",
       "<path d=\"M28.681 7.159c-0.694-0.947-1.662-2.053-2.724-3.116s-2.169-2.030-3.116-2.724c-1.612-1.182-2.393-1.319-2.841-1.319h-15.5c-1.378 0-2.5 1.121-2.5 2.5v27c0 1.378 1.122 2.5 2.5 2.5h23c1.378 0 2.5-1.122 2.5-2.5v-19.5c0-0.448-0.137-1.23-1.319-2.841zM24.543 5.457c0.959 0.959 1.712 1.825 2.268 2.543h-4.811v-4.811c0.718 0.556 1.584 1.309 2.543 2.268zM28 29.5c0 0.271-0.229 0.5-0.5 0.5h-23c-0.271 0-0.5-0.229-0.5-0.5v-27c0-0.271 0.229-0.5 0.5-0.5 0 0 15.499-0 15.5 0v7c0 0.552 0.448 1 1 1h7v19.5z\"></path>\n",
       "<path d=\"M23 26h-14c-0.552 0-1-0.448-1-1s0.448-1 1-1h14c0.552 0 1 0.448 1 1s-0.448 1-1 1z\"></path>\n",
       "<path d=\"M23 22h-14c-0.552 0-1-0.448-1-1s0.448-1 1-1h14c0.552 0 1 0.448 1 1s-0.448 1-1 1z\"></path>\n",
       "<path d=\"M23 18h-14c-0.552 0-1-0.448-1-1s0.448-1 1-1h14c0.552 0 1 0.448 1 1s-0.448 1-1 1z\"></path>\n",
       "</symbol>\n",
       "</defs>\n",
       "</svg>\n",
       "<style>/* CSS stylesheet for displaying xarray objects in jupyterlab.\n",
       " *\n",
       " */\n",
       "\n",
       ":root {\n",
       "  --xr-font-color0: var(--jp-content-font-color0, rgba(0, 0, 0, 1));\n",
       "  --xr-font-color2: var(--jp-content-font-color2, rgba(0, 0, 0, 0.54));\n",
       "  --xr-font-color3: var(--jp-content-font-color3, rgba(0, 0, 0, 0.38));\n",
       "  --xr-border-color: var(--jp-border-color2, #e0e0e0);\n",
       "  --xr-disabled-color: var(--jp-layout-color3, #bdbdbd);\n",
       "  --xr-background-color: var(--jp-layout-color0, white);\n",
       "  --xr-background-color-row-even: var(--jp-layout-color1, white);\n",
       "  --xr-background-color-row-odd: var(--jp-layout-color2, #eeeeee);\n",
       "}\n",
       "\n",
       "html[theme=dark],\n",
       "body.vscode-dark {\n",
       "  --xr-font-color0: rgba(255, 255, 255, 1);\n",
       "  --xr-font-color2: rgba(255, 255, 255, 0.54);\n",
       "  --xr-font-color3: rgba(255, 255, 255, 0.38);\n",
       "  --xr-border-color: #1F1F1F;\n",
       "  --xr-disabled-color: #515151;\n",
       "  --xr-background-color: #111111;\n",
       "  --xr-background-color-row-even: #111111;\n",
       "  --xr-background-color-row-odd: #313131;\n",
       "}\n",
       "\n",
       ".xr-wrap {\n",
       "  display: block !important;\n",
       "  min-width: 300px;\n",
       "  max-width: 700px;\n",
       "}\n",
       "\n",
       ".xr-text-repr-fallback {\n",
       "  /* fallback to plain text repr when CSS is not injected (untrusted notebook) */\n",
       "  display: none;\n",
       "}\n",
       "\n",
       ".xr-header {\n",
       "  padding-top: 6px;\n",
       "  padding-bottom: 6px;\n",
       "  margin-bottom: 4px;\n",
       "  border-bottom: solid 1px var(--xr-border-color);\n",
       "}\n",
       "\n",
       ".xr-header > div,\n",
       ".xr-header > ul {\n",
       "  display: inline;\n",
       "  margin-top: 0;\n",
       "  margin-bottom: 0;\n",
       "}\n",
       "\n",
       ".xr-obj-type,\n",
       ".xr-array-name {\n",
       "  margin-left: 2px;\n",
       "  margin-right: 10px;\n",
       "}\n",
       "\n",
       ".xr-obj-type {\n",
       "  color: var(--xr-font-color2);\n",
       "}\n",
       "\n",
       ".xr-sections {\n",
       "  padding-left: 0 !important;\n",
       "  display: grid;\n",
       "  grid-template-columns: 150px auto auto 1fr 20px 20px;\n",
       "}\n",
       "\n",
       ".xr-section-item {\n",
       "  display: contents;\n",
       "}\n",
       "\n",
       ".xr-section-item input {\n",
       "  display: none;\n",
       "}\n",
       "\n",
       ".xr-section-item input + label {\n",
       "  color: var(--xr-disabled-color);\n",
       "}\n",
       "\n",
       ".xr-section-item input:enabled + label {\n",
       "  cursor: pointer;\n",
       "  color: var(--xr-font-color2);\n",
       "}\n",
       "\n",
       ".xr-section-item input:enabled + label:hover {\n",
       "  color: var(--xr-font-color0);\n",
       "}\n",
       "\n",
       ".xr-section-summary {\n",
       "  grid-column: 1;\n",
       "  color: var(--xr-font-color2);\n",
       "  font-weight: 500;\n",
       "}\n",
       "\n",
       ".xr-section-summary > span {\n",
       "  display: inline-block;\n",
       "  padding-left: 0.5em;\n",
       "}\n",
       "\n",
       ".xr-section-summary-in:disabled + label {\n",
       "  color: var(--xr-font-color2);\n",
       "}\n",
       "\n",
       ".xr-section-summary-in + label:before {\n",
       "  display: inline-block;\n",
       "  content: '►';\n",
       "  font-size: 11px;\n",
       "  width: 15px;\n",
       "  text-align: center;\n",
       "}\n",
       "\n",
       ".xr-section-summary-in:disabled + label:before {\n",
       "  color: var(--xr-disabled-color);\n",
       "}\n",
       "\n",
       ".xr-section-summary-in:checked + label:before {\n",
       "  content: '▼';\n",
       "}\n",
       "\n",
       ".xr-section-summary-in:checked + label > span {\n",
       "  display: none;\n",
       "}\n",
       "\n",
       ".xr-section-summary,\n",
       ".xr-section-inline-details {\n",
       "  padding-top: 4px;\n",
       "  padding-bottom: 4px;\n",
       "}\n",
       "\n",
       ".xr-section-inline-details {\n",
       "  grid-column: 2 / -1;\n",
       "}\n",
       "\n",
       ".xr-section-details {\n",
       "  display: none;\n",
       "  grid-column: 1 / -1;\n",
       "  margin-bottom: 5px;\n",
       "}\n",
       "\n",
       ".xr-section-summary-in:checked ~ .xr-section-details {\n",
       "  display: contents;\n",
       "}\n",
       "\n",
       ".xr-array-wrap {\n",
       "  grid-column: 1 / -1;\n",
       "  display: grid;\n",
       "  grid-template-columns: 20px auto;\n",
       "}\n",
       "\n",
       ".xr-array-wrap > label {\n",
       "  grid-column: 1;\n",
       "  vertical-align: top;\n",
       "}\n",
       "\n",
       ".xr-preview {\n",
       "  color: var(--xr-font-color3);\n",
       "}\n",
       "\n",
       ".xr-array-preview,\n",
       ".xr-array-data {\n",
       "  padding: 0 5px !important;\n",
       "  grid-column: 2;\n",
       "}\n",
       "\n",
       ".xr-array-data,\n",
       ".xr-array-in:checked ~ .xr-array-preview {\n",
       "  display: none;\n",
       "}\n",
       "\n",
       ".xr-array-in:checked ~ .xr-array-data,\n",
       ".xr-array-preview {\n",
       "  display: inline-block;\n",
       "}\n",
       "\n",
       ".xr-dim-list {\n",
       "  display: inline-block !important;\n",
       "  list-style: none;\n",
       "  padding: 0 !important;\n",
       "  margin: 0;\n",
       "}\n",
       "\n",
       ".xr-dim-list li {\n",
       "  display: inline-block;\n",
       "  padding: 0;\n",
       "  margin: 0;\n",
       "}\n",
       "\n",
       ".xr-dim-list:before {\n",
       "  content: '(';\n",
       "}\n",
       "\n",
       ".xr-dim-list:after {\n",
       "  content: ')';\n",
       "}\n",
       "\n",
       ".xr-dim-list li:not(:last-child):after {\n",
       "  content: ',';\n",
       "  padding-right: 5px;\n",
       "}\n",
       "\n",
       ".xr-has-index {\n",
       "  font-weight: bold;\n",
       "}\n",
       "\n",
       ".xr-var-list,\n",
       ".xr-var-item {\n",
       "  display: contents;\n",
       "}\n",
       "\n",
       ".xr-var-item > div,\n",
       ".xr-var-item label,\n",
       ".xr-var-item > .xr-var-name span {\n",
       "  background-color: var(--xr-background-color-row-even);\n",
       "  margin-bottom: 0;\n",
       "}\n",
       "\n",
       ".xr-var-item > .xr-var-name:hover span {\n",
       "  padding-right: 5px;\n",
       "}\n",
       "\n",
       ".xr-var-list > li:nth-child(odd) > div,\n",
       ".xr-var-list > li:nth-child(odd) > label,\n",
       ".xr-var-list > li:nth-child(odd) > .xr-var-name span {\n",
       "  background-color: var(--xr-background-color-row-odd);\n",
       "}\n",
       "\n",
       ".xr-var-name {\n",
       "  grid-column: 1;\n",
       "}\n",
       "\n",
       ".xr-var-dims {\n",
       "  grid-column: 2;\n",
       "}\n",
       "\n",
       ".xr-var-dtype {\n",
       "  grid-column: 3;\n",
       "  text-align: right;\n",
       "  color: var(--xr-font-color2);\n",
       "}\n",
       "\n",
       ".xr-var-preview {\n",
       "  grid-column: 4;\n",
       "}\n",
       "\n",
       ".xr-var-name,\n",
       ".xr-var-dims,\n",
       ".xr-var-dtype,\n",
       ".xr-preview,\n",
       ".xr-attrs dt {\n",
       "  white-space: nowrap;\n",
       "  overflow: hidden;\n",
       "  text-overflow: ellipsis;\n",
       "  padding-right: 10px;\n",
       "}\n",
       "\n",
       ".xr-var-name:hover,\n",
       ".xr-var-dims:hover,\n",
       ".xr-var-dtype:hover,\n",
       ".xr-attrs dt:hover {\n",
       "  overflow: visible;\n",
       "  width: auto;\n",
       "  z-index: 1;\n",
       "}\n",
       "\n",
       ".xr-var-attrs,\n",
       ".xr-var-data {\n",
       "  display: none;\n",
       "  background-color: var(--xr-background-color) !important;\n",
       "  padding-bottom: 5px !important;\n",
       "}\n",
       "\n",
       ".xr-var-attrs-in:checked ~ .xr-var-attrs,\n",
       ".xr-var-data-in:checked ~ .xr-var-data {\n",
       "  display: block;\n",
       "}\n",
       "\n",
       ".xr-var-data > table {\n",
       "  float: right;\n",
       "}\n",
       "\n",
       ".xr-var-name span,\n",
       ".xr-var-data,\n",
       ".xr-attrs {\n",
       "  padding-left: 25px !important;\n",
       "}\n",
       "\n",
       ".xr-attrs,\n",
       ".xr-var-attrs,\n",
       ".xr-var-data {\n",
       "  grid-column: 1 / -1;\n",
       "}\n",
       "\n",
       "dl.xr-attrs {\n",
       "  padding: 0;\n",
       "  margin: 0;\n",
       "  display: grid;\n",
       "  grid-template-columns: 125px auto;\n",
       "}\n",
       "\n",
       ".xr-attrs dt,\n",
       ".xr-attrs dd {\n",
       "  padding: 0;\n",
       "  margin: 0;\n",
       "  float: left;\n",
       "  padding-right: 10px;\n",
       "  width: auto;\n",
       "}\n",
       "\n",
       ".xr-attrs dt {\n",
       "  font-weight: normal;\n",
       "  grid-column: 1;\n",
       "}\n",
       "\n",
       ".xr-attrs dt:hover span {\n",
       "  display: inline-block;\n",
       "  background: var(--xr-background-color);\n",
       "  padding-right: 10px;\n",
       "}\n",
       "\n",
       ".xr-attrs dd {\n",
       "  grid-column: 2;\n",
       "  white-space: pre-wrap;\n",
       "  word-break: break-all;\n",
       "}\n",
       "\n",
       ".xr-icon-database,\n",
       ".xr-icon-file-text2 {\n",
       "  display: inline-block;\n",
       "  vertical-align: middle;\n",
       "  width: 1em;\n",
       "  height: 1.5em !important;\n",
       "  stroke-width: 0;\n",
       "  stroke: currentColor;\n",
       "  fill: currentColor;\n",
       "}\n",
       "</style><pre class='xr-text-repr-fallback'>&lt;xarray.DataArray &#x27;dV&#x27; (ocean_time: 96)&gt;\n",
       "dask.array&lt;sum-aggregate, shape=(96,), dtype=float64, chunksize=(1,), chunktype=numpy.ndarray&gt;\n",
       "Coordinates:\n",
       "  * ocean_time  (ocean_time) datetime64[ns] 2022-05-11T01:00:00 ... 2022-05-15\n",
       "Attributes:\n",
       "    long_name:  volume metric in XI and ETA and S on RHO/RHO grids\n",
       "    units:      meter3\n",
       "    field:      dV, scalar\n",
       "    grid:       &lt;xgcm.Grid&gt;\\nX Axis (not periodic, boundary=None):\\n  * cente...</pre><div class='xr-wrap' style='display:none'><div class='xr-header'><div class='xr-obj-type'>xarray.DataArray</div><div class='xr-array-name'>'dV'</div><ul class='xr-dim-list'><li><span class='xr-has-index'>ocean_time</span>: 96</li></ul></div><ul class='xr-sections'><li class='xr-section-item'><div class='xr-array-wrap'><input id='section-76635f11-7558-457f-84bd-80831acd1e99' class='xr-array-in' type='checkbox' checked><label for='section-76635f11-7558-457f-84bd-80831acd1e99' title='Show/hide data repr'><svg class='icon xr-icon-database'><use xlink:href='#icon-database'></use></svg></label><div class='xr-array-preview xr-preview'><span>dask.array&lt;chunksize=(1,), meta=np.ndarray&gt;</span></div><div class='xr-array-data'><table>\n",
       "    <tr>\n",
       "        <td>\n",
       "            <table>\n",
       "                <thead>\n",
       "                    <tr>\n",
       "                        <td> </td>\n",
       "                        <th> Array </th>\n",
       "                        <th> Chunk </th>\n",
       "                    </tr>\n",
       "                </thead>\n",
       "                <tbody>\n",
       "                    \n",
       "                    <tr>\n",
       "                        <th> Bytes </th>\n",
       "                        <td> 768 B </td>\n",
       "                        <td> 8 B </td>\n",
       "                    </tr>\n",
       "                    \n",
       "                    <tr>\n",
       "                        <th> Shape </th>\n",
       "                        <td> (96,) </td>\n",
       "                        <td> (1,) </td>\n",
       "                    </tr>\n",
       "                    <tr>\n",
       "                        <th> Count </th>\n",
       "                        <td> 1753 Tasks </td>\n",
       "                        <td> 96 Chunks </td>\n",
       "                    </tr>\n",
       "                    <tr>\n",
       "                    <th> Type </th>\n",
       "                    <td> float64 </td>\n",
       "                    <td> numpy.ndarray </td>\n",
       "                    </tr>\n",
       "                </tbody>\n",
       "            </table>\n",
       "        </td>\n",
       "        <td>\n",
       "        <svg width=\"170\" height=\"75\" style=\"stroke:rgb(0,0,0);stroke-width:1\" >\n",
       "\n",
       "  <!-- Horizontal lines -->\n",
       "  <line x1=\"0\" y1=\"0\" x2=\"120\" y2=\"0\" style=\"stroke-width:2\" />\n",
       "  <line x1=\"0\" y1=\"25\" x2=\"120\" y2=\"25\" style=\"stroke-width:2\" />\n",
       "\n",
       "  <!-- Vertical lines -->\n",
       "  <line x1=\"0\" y1=\"0\" x2=\"0\" y2=\"25\" style=\"stroke-width:2\" />\n",
       "  <line x1=\"6\" y1=\"0\" x2=\"6\" y2=\"25\" />\n",
       "  <line x1=\"12\" y1=\"0\" x2=\"12\" y2=\"25\" />\n",
       "  <line x1=\"18\" y1=\"0\" x2=\"18\" y2=\"25\" />\n",
       "  <line x1=\"25\" y1=\"0\" x2=\"25\" y2=\"25\" />\n",
       "  <line x1=\"31\" y1=\"0\" x2=\"31\" y2=\"25\" />\n",
       "  <line x1=\"37\" y1=\"0\" x2=\"37\" y2=\"25\" />\n",
       "  <line x1=\"43\" y1=\"0\" x2=\"43\" y2=\"25\" />\n",
       "  <line x1=\"50\" y1=\"0\" x2=\"50\" y2=\"25\" />\n",
       "  <line x1=\"56\" y1=\"0\" x2=\"56\" y2=\"25\" />\n",
       "  <line x1=\"62\" y1=\"0\" x2=\"62\" y2=\"25\" />\n",
       "  <line x1=\"68\" y1=\"0\" x2=\"68\" y2=\"25\" />\n",
       "  <line x1=\"75\" y1=\"0\" x2=\"75\" y2=\"25\" />\n",
       "  <line x1=\"81\" y1=\"0\" x2=\"81\" y2=\"25\" />\n",
       "  <line x1=\"87\" y1=\"0\" x2=\"87\" y2=\"25\" />\n",
       "  <line x1=\"93\" y1=\"0\" x2=\"93\" y2=\"25\" />\n",
       "  <line x1=\"100\" y1=\"0\" x2=\"100\" y2=\"25\" />\n",
       "  <line x1=\"106\" y1=\"0\" x2=\"106\" y2=\"25\" />\n",
       "  <line x1=\"112\" y1=\"0\" x2=\"112\" y2=\"25\" />\n",
       "  <line x1=\"120\" y1=\"0\" x2=\"120\" y2=\"25\" style=\"stroke-width:2\" />\n",
       "\n",
       "  <!-- Colored Rectangle -->\n",
       "  <polygon points=\"0.0,0.0 120.0,0.0 120.0,25.60913412115106 0.0,25.60913412115106\" style=\"fill:#8B4903A0;stroke-width:0\"/>\n",
       "\n",
       "  <!-- Text -->\n",
       "  <text x=\"60.000000\" y=\"45.609134\" font-size=\"1.0rem\" font-weight=\"100\" text-anchor=\"middle\" >96</text>\n",
       "  <text x=\"140.000000\" y=\"12.804567\" font-size=\"1.0rem\" font-weight=\"100\" text-anchor=\"middle\" transform=\"rotate(0,140.000000,12.804567)\">1</text>\n",
       "</svg>\n",
       "        </td>\n",
       "    </tr>\n",
       "</table></div></div></li><li class='xr-section-item'><input id='section-a0f14f50-bfa2-4c34-a136-2b578df70261' class='xr-section-summary-in' type='checkbox'  checked><label for='section-a0f14f50-bfa2-4c34-a136-2b578df70261' class='xr-section-summary' >Coordinates: <span>(1)</span></label><div class='xr-section-inline-details'></div><div class='xr-section-details'><ul class='xr-var-list'><li class='xr-var-item'><div class='xr-var-name'><span class='xr-has-index'>ocean_time</span></div><div class='xr-var-dims'>(ocean_time)</div><div class='xr-var-dtype'>datetime64[ns]</div><div class='xr-var-preview xr-preview'>2022-05-11T01:00:00 ... 2022-05-15</div><input id='attrs-c8fb7dd1-c0d7-45b1-9e94-8447120fccf1' class='xr-var-attrs-in' type='checkbox' ><label for='attrs-c8fb7dd1-c0d7-45b1-9e94-8447120fccf1' title='Show/Hide attributes'><svg class='icon xr-icon-file-text2'><use xlink:href='#icon-file-text2'></use></svg></label><input id='data-f34614c2-1e7e-48b4-ab4a-44c329e8030e' class='xr-var-data-in' type='checkbox'><label for='data-f34614c2-1e7e-48b4-ab4a-44c329e8030e' title='Show/Hide data repr'><svg class='icon xr-icon-database'><use xlink:href='#icon-database'></use></svg></label><div class='xr-var-attrs'><dl class='xr-attrs'><dt><span>long_name :</span></dt><dd>time since initialization</dd><dt><span>field :</span></dt><dd>time, scalar, series</dd><dt><span>axis :</span></dt><dd>T</dd><dt><span>standard_name :</span></dt><dd>time</dd></dl></div><div class='xr-var-data'><pre>array([&#x27;2022-05-11T01:00:00.000000000&#x27;, &#x27;2022-05-11T02:00:00.000000000&#x27;,\n",
       "       &#x27;2022-05-11T03:00:00.000000000&#x27;, &#x27;2022-05-11T04:00:00.000000000&#x27;,\n",
       "       &#x27;2022-05-11T05:00:00.000000000&#x27;, &#x27;2022-05-11T06:00:00.000000000&#x27;,\n",
       "       &#x27;2022-05-11T07:00:00.000000000&#x27;, &#x27;2022-05-11T08:00:00.000000000&#x27;,\n",
       "       &#x27;2022-05-11T09:00:00.000000000&#x27;, &#x27;2022-05-11T10:00:00.000000000&#x27;,\n",
       "       &#x27;2022-05-11T11:00:00.000000000&#x27;, &#x27;2022-05-11T12:00:00.000000000&#x27;,\n",
       "       &#x27;2022-05-11T13:00:00.000000000&#x27;, &#x27;2022-05-11T14:00:00.000000000&#x27;,\n",
       "       &#x27;2022-05-11T15:00:00.000000000&#x27;, &#x27;2022-05-11T16:00:00.000000000&#x27;,\n",
       "       &#x27;2022-05-11T17:00:00.000000000&#x27;, &#x27;2022-05-11T18:00:00.000000000&#x27;,\n",
       "       &#x27;2022-05-11T19:00:00.000000000&#x27;, &#x27;2022-05-11T20:00:00.000000000&#x27;,\n",
       "       &#x27;2022-05-11T21:00:00.000000000&#x27;, &#x27;2022-05-11T22:00:00.000000000&#x27;,\n",
       "       &#x27;2022-05-11T23:00:00.000000000&#x27;, &#x27;2022-05-12T00:00:00.000000000&#x27;,\n",
       "       &#x27;2022-05-12T01:00:00.000000000&#x27;, &#x27;2022-05-12T02:00:00.000000000&#x27;,\n",
       "       &#x27;2022-05-12T03:00:00.000000000&#x27;, &#x27;2022-05-12T04:00:00.000000000&#x27;,\n",
       "       &#x27;2022-05-12T05:00:00.000000000&#x27;, &#x27;2022-05-12T06:00:00.000000000&#x27;,\n",
       "       &#x27;2022-05-12T07:00:00.000000000&#x27;, &#x27;2022-05-12T08:00:00.000000000&#x27;,\n",
       "       &#x27;2022-05-12T09:00:00.000000000&#x27;, &#x27;2022-05-12T10:00:00.000000000&#x27;,\n",
       "       &#x27;2022-05-12T11:00:00.000000000&#x27;, &#x27;2022-05-12T12:00:00.000000000&#x27;,\n",
       "       &#x27;2022-05-12T13:00:00.000000000&#x27;, &#x27;2022-05-12T14:00:00.000000000&#x27;,\n",
       "       &#x27;2022-05-12T15:00:00.000000000&#x27;, &#x27;2022-05-12T16:00:00.000000000&#x27;,\n",
       "       &#x27;2022-05-12T17:00:00.000000000&#x27;, &#x27;2022-05-12T18:00:00.000000000&#x27;,\n",
       "       &#x27;2022-05-12T19:00:00.000000000&#x27;, &#x27;2022-05-12T20:00:00.000000000&#x27;,\n",
       "       &#x27;2022-05-12T21:00:00.000000000&#x27;, &#x27;2022-05-12T22:00:00.000000000&#x27;,\n",
       "       &#x27;2022-05-12T23:00:00.000000000&#x27;, &#x27;2022-05-13T00:00:00.000000000&#x27;,\n",
       "       &#x27;2022-05-13T01:00:00.000000000&#x27;, &#x27;2022-05-13T02:00:00.000000000&#x27;,\n",
       "       &#x27;2022-05-13T03:00:00.000000000&#x27;, &#x27;2022-05-13T04:00:00.000000000&#x27;,\n",
       "       &#x27;2022-05-13T05:00:00.000000000&#x27;, &#x27;2022-05-13T06:00:00.000000000&#x27;,\n",
       "       &#x27;2022-05-13T07:00:00.000000000&#x27;, &#x27;2022-05-13T08:00:00.000000000&#x27;,\n",
       "       &#x27;2022-05-13T09:00:00.000000000&#x27;, &#x27;2022-05-13T10:00:00.000000000&#x27;,\n",
       "       &#x27;2022-05-13T11:00:00.000000000&#x27;, &#x27;2022-05-13T12:00:00.000000000&#x27;,\n",
       "       &#x27;2022-05-13T13:00:00.000000000&#x27;, &#x27;2022-05-13T14:00:00.000000000&#x27;,\n",
       "       &#x27;2022-05-13T15:00:00.000000000&#x27;, &#x27;2022-05-13T16:00:00.000000000&#x27;,\n",
       "       &#x27;2022-05-13T17:00:00.000000000&#x27;, &#x27;2022-05-13T18:00:00.000000000&#x27;,\n",
       "       &#x27;2022-05-13T19:00:00.000000000&#x27;, &#x27;2022-05-13T20:00:00.000000000&#x27;,\n",
       "       &#x27;2022-05-13T21:00:00.000000000&#x27;, &#x27;2022-05-13T22:00:00.000000000&#x27;,\n",
       "       &#x27;2022-05-13T23:00:00.000000000&#x27;, &#x27;2022-05-14T00:00:00.000000000&#x27;,\n",
       "       &#x27;2022-05-14T01:00:00.000000000&#x27;, &#x27;2022-05-14T02:00:00.000000000&#x27;,\n",
       "       &#x27;2022-05-14T03:00:00.000000000&#x27;, &#x27;2022-05-14T04:00:00.000000000&#x27;,\n",
       "       &#x27;2022-05-14T05:00:00.000000000&#x27;, &#x27;2022-05-14T06:00:00.000000000&#x27;,\n",
       "       &#x27;2022-05-14T07:00:00.000000000&#x27;, &#x27;2022-05-14T08:00:00.000000000&#x27;,\n",
       "       &#x27;2022-05-14T09:00:00.000000000&#x27;, &#x27;2022-05-14T10:00:00.000000000&#x27;,\n",
       "       &#x27;2022-05-14T11:00:00.000000000&#x27;, &#x27;2022-05-14T12:00:00.000000000&#x27;,\n",
       "       &#x27;2022-05-14T13:00:00.000000000&#x27;, &#x27;2022-05-14T14:00:00.000000000&#x27;,\n",
       "       &#x27;2022-05-14T15:00:00.000000000&#x27;, &#x27;2022-05-14T16:00:00.000000000&#x27;,\n",
       "       &#x27;2022-05-14T17:00:00.000000000&#x27;, &#x27;2022-05-14T18:00:00.000000000&#x27;,\n",
       "       &#x27;2022-05-14T19:00:00.000000000&#x27;, &#x27;2022-05-14T20:00:00.000000000&#x27;,\n",
       "       &#x27;2022-05-14T21:00:00.000000000&#x27;, &#x27;2022-05-14T22:00:00.000000000&#x27;,\n",
       "       &#x27;2022-05-14T23:00:00.000000000&#x27;, &#x27;2022-05-15T00:00:00.000000000&#x27;],\n",
       "      dtype=&#x27;datetime64[ns]&#x27;)</pre></div></li></ul></div></li><li class='xr-section-item'><input id='section-a438668e-9792-473d-a5c9-08aa959f002a' class='xr-section-summary-in' type='checkbox'  checked><label for='section-a438668e-9792-473d-a5c9-08aa959f002a' class='xr-section-summary' >Attributes: <span>(4)</span></label><div class='xr-section-inline-details'></div><div class='xr-section-details'><dl class='xr-attrs'><dt><span>long_name :</span></dt><dd>volume metric in XI and ETA and S on RHO/RHO grids</dd><dt><span>units :</span></dt><dd>meter3</dd><dt><span>field :</span></dt><dd>dV, scalar</dd><dt><span>grid :</span></dt><dd>&lt;xgcm.Grid&gt;\n",
       "X Axis (not periodic, boundary=None):\n",
       "  * center   xi_rho --&gt; inner\n",
       "  * inner    xi_u --&gt; center\n",
       "Y Axis (not periodic, boundary=None):\n",
       "  * center   eta_rho --&gt; inner\n",
       "  * inner    eta_v --&gt; center\n",
       "Z Axis (not periodic, boundary=None):\n",
       "  * center   s_rho --&gt; outer\n",
       "  * outer    s_w --&gt; center</dd></dl></div></li></ul></div></div>"
      ],
      "text/plain": [
       "<xarray.DataArray 'dV' (ocean_time: 96)>\n",
       "dask.array<sum-aggregate, shape=(96,), dtype=float64, chunksize=(1,), chunktype=numpy.ndarray>\n",
       "Coordinates:\n",
       "  * ocean_time  (ocean_time) datetime64[ns] 2022-05-11T01:00:00 ... 2022-05-15\n",
       "Attributes:\n",
       "    long_name:  volume metric in XI and ETA and S on RHO/RHO grids\n",
       "    units:      meter3\n",
       "    field:      dV, scalar\n",
       "    grid:       <xgcm.Grid>\\nX Axis (not periodic, boundary=None):\\n  * cente..."
      ]
     },
     "execution_count": 27,
     "metadata": {},
     "output_type": "execute_result"
    }
   ],
   "source": [
    "ds.dV.sum(('s_rho', 'eta_rho', 'xi_rho'));"
   ]
  },
  {
   "cell_type": "code",
   "execution_count": 10,
   "metadata": {},
   "outputs": [],
   "source": [
    "ds.dV.cf.sum(('Z', 'Y', 'X'));  # with cf-xarray accessor"
   ]
  },
  {
   "cell_type": "markdown",
   "metadata": {},
   "source": [
    "## Change grids\n",
    "\n",
    "A ROMS user frequently needs to move between horizontal and vertical grids, so it is built into many of the function wrappers, but you can also do it as a separate function. It can also be done to both `Datasets` and `DataArrays` with slightly different syntax. Here we change salinity from its default grids to be on the psi grid horizontally and the s_w grid vertically:"
   ]
  },
  {
   "cell_type": "code",
   "execution_count": 11,
   "metadata": {},
   "outputs": [],
   "source": [
    "ds.xroms.to_grid('salt', 'psi', 's_w');   # Dataset\n",
    "ds.salt.xroms.to_grid('psi', 's_w');   # DataArray"
   ]
  },
  {
   "cell_type": "markdown",
   "metadata": {},
   "source": [
    "You can also go to the original `xroms` function and avoid the `xarray` accessor if you prefer, though the point of the accessor approach (that is, `ds.xroms...`) is to be easier to remember and less code to write generally."
   ]
  },
  {
   "cell_type": "markdown",
   "metadata": {},
   "source": [
    "## Dimension ordering convention\n",
    "\n",
    "By convention, ROMS DataArrays should be in the order ['T', 'Z', 'Y', 'X'], for however many of these dimensions they contain. The following function does this for you:"
   ]
  },
  {
   "cell_type": "code",
   "execution_count": 12,
   "metadata": {},
   "outputs": [],
   "source": [
    "xroms.order(ds.temp);\n",
    "ds.temp.xroms.order();  # accessor"
   ]
  },
  {
   "cell_type": "markdown",
   "metadata": {},
   "source": [
    "## Basic computations\n",
    "\n",
    "These are all functions."
   ]
  },
  {
   "cell_type": "markdown",
   "metadata": {},
   "source": [
    "### `xarray`\n",
    "\n",
    "Many [computations](http://xarray.pydata.org/en/stable/computation.html) are built into `xarray` itself. Often it is possible to input the dimension over which to perform a computation by name, such as:\n",
    "\n",
    "    arr.sum(dim=\"xi_rho\")\n",
    "\n",
    "or \n",
    "\n",
    "    arr.sum(dim=(\"xi_rho\",\"eta_rho\"))\n",
    "\n",
    "Note that many basic `xarray` calculations should be used with caution when using with ROMS output, since a ROMS grid can be stretched both horizontally and vertically. When using these functions, consider if your calculation should account for variable grid cell distances, areas, or volumes. Additionally, it is straight-forward to use basic grid functions from `xarray` on a ROMS time dimension (resampling, differentiation, interpolation, etc), however, be careful before using these functions on spatial dimensions for the same reasons as before."
   ]
  },
  {
   "cell_type": "code",
   "execution_count": 19,
   "metadata": {},
   "outputs": [],
   "source": [
    "ds.salt.mean(dim=(\"xi_rho\",\"eta_rho\"));"
   ]
  },
  {
   "cell_type": "markdown",
   "metadata": {},
   "source": [
    "`cf-xarray`"
   ]
  },
  {
   "cell_type": "code",
   "execution_count": 14,
   "metadata": {},
   "outputs": [],
   "source": [
    "ds.salt.cf.mean((\"Y\",\"X\"));"
   ]
  },
  {
   "cell_type": "markdown",
   "metadata": {},
   "source": [
    "#### `xroms` grid-based metrics\n",
    "\n",
    "Spatial metrics that account for the variable grid cell sizing in ROMS (both curvilinear horizontal and s vertical) are available by wrapping `xgcm` functions. These also have the additional benefit that the user can change grids and attributes are tracked. The available functions are:\n",
    "\n",
    "* gridsum\n",
    "* gridmean\n",
    "\n",
    "Example usage:\n",
    "\n",
    "    xroms.gridsum(ds.temp, grid, dim)\n",
    "\n",
    "    ds['temp'].xroms.gridsum(dim)\n",
    "\n",
    "where dimension names in the `xgcm` convention are 'Z', 'Y', or 'X'. `dim` can be a string, list, or tuple of combinations of these names for dimensions to average over."
   ]
  },
  {
   "cell_type": "markdown",
   "metadata": {},
   "source": [
    "sum"
   ]
  },
  {
   "cell_type": "code",
   "execution_count": 15,
   "metadata": {},
   "outputs": [
    {
     "name": "stderr",
     "output_type": "stream",
     "text": [
      "/home/florianb/miniconda3/envs/XROMS/lib/python3.8/site-packages/xgcm/grid.py:1539: UserWarning: Metric at ('ocean_time', 's_rho', 'eta_rho', 'xi_u') being interpolated from metrics at dimensions [('eta_rho', 'xi_rho'), ('ocean_time', 's_rho', 'eta_rho', 'xi_rho')]. Boundary value set to 'extend'.\n",
      "  warnings.warn(\n",
      "/home/florianb/miniconda3/envs/XROMS/lib/python3.8/site-packages/xgcm/grid.py:1539: UserWarning: Metric at ('ocean_time', 's_rho', 'eta_rho', 'xi_u') being interpolated from metrics at dimensions [('eta_rho', 'xi_rho'), ('ocean_time', 's_rho', 'eta_rho', 'xi_u')]. Boundary value set to 'extend'.\n",
      "  warnings.warn(\n",
      "/home/florianb/miniconda3/envs/XROMS/lib/python3.8/site-packages/xgcm/grid.py:1539: UserWarning: Metric at ('ocean_time', 's_rho', 'eta_rho', 'xi_u') being interpolated from metrics at dimensions [('eta_rho', 'xi_rho'), ('ocean_time', 's_rho', 'eta_v', 'xi_rho')]. Boundary value set to 'extend'.\n",
      "  warnings.warn(\n",
      "/home/florianb/miniconda3/envs/XROMS/lib/python3.8/site-packages/xgcm/grid.py:1539: UserWarning: Metric at ('ocean_time', 's_rho', 'eta_rho', 'xi_u') being interpolated from metrics at dimensions [('eta_rho', 'xi_rho'), ('ocean_time', 's_w', 'eta_rho', 'xi_rho')]. Boundary value set to 'extend'.\n",
      "  warnings.warn(\n",
      "/home/florianb/miniconda3/envs/XROMS/lib/python3.8/site-packages/xgcm/grid.py:1539: UserWarning: Metric at ('ocean_time', 's_rho', 'eta_rho', 'xi_u') being interpolated from metrics at dimensions [('eta_rho', 'xi_rho'), ('ocean_time', 's_w', 'eta_rho', 'xi_u')]. Boundary value set to 'extend'.\n",
      "  warnings.warn(\n",
      "/home/florianb/miniconda3/envs/XROMS/lib/python3.8/site-packages/xgcm/grid.py:1539: UserWarning: Metric at ('ocean_time', 's_rho', 'eta_rho', 'xi_u') being interpolated from metrics at dimensions [('eta_rho', 'xi_rho'), ('ocean_time', 's_w', 'eta_v', 'xi_rho')]. Boundary value set to 'extend'.\n",
      "  warnings.warn(\n",
      "/home/florianb/miniconda3/envs/XROMS/lib/python3.8/site-packages/xgcm/grid.py:1539: UserWarning: Metric at ('ocean_time', 's_rho', 'eta_rho', 'xi_u') being interpolated from metrics at dimensions [('eta_rho', 'xi_rho'), ('ocean_time', 's_rho', 'eta_v', 'xi_u')]. Boundary value set to 'extend'.\n",
      "  warnings.warn(\n",
      "/home/florianb/miniconda3/envs/XROMS/lib/python3.8/site-packages/xgcm/grid.py:1539: UserWarning: Metric at ('ocean_time', 's_rho', 'eta_rho', 'xi_u') being interpolated from metrics at dimensions [('eta_rho', 'xi_rho'), ('ocean_time', 's_w', 'eta_v', 'xi_u')]. Boundary value set to 'extend'.\n",
      "  warnings.warn(\n",
      "/home/florianb/miniconda3/envs/XROMS/lib/python3.8/site-packages/xgcm/grid.py:1539: UserWarning: Metric at ('ocean_time', 's_rho', 'eta_rho', 'xi_u') being interpolated from metrics at dimensions [('eta_rho', 'xi_u'), ('ocean_time', 's_rho', 'eta_rho', 'xi_rho')]. Boundary value set to 'extend'.\n",
      "  warnings.warn(\n"
     ]
    }
   ],
   "source": [
    "ds.u.xroms.gridsum(('Y','Z'));"
   ]
  },
  {
   "cell_type": "markdown",
   "metadata": {},
   "source": [
    "mean"
   ]
  },
  {
   "cell_type": "code",
   "execution_count": 16,
   "metadata": {},
   "outputs": [
    {
     "name": "stderr",
     "output_type": "stream",
     "text": [
      "/home/florianb/miniconda3/envs/XROMS/lib/python3.8/site-packages/xgcm/grid.py:1515: UserWarning: Metric at ('ocean_time', 's_rho', 'eta_v', 'xi_rho') being interpolated from metrics at dimensions ('eta_rho', 'xi_rho'). Boundary value set to 'extend'.\n",
      "  warnings.warn(\n"
     ]
    }
   ],
   "source": [
    "ds.v.xroms.gridmean(('Y','X'));"
   ]
  },
  {
   "cell_type": "markdown",
   "metadata": {},
   "source": [
    "## Derivatives"
   ]
  },
  {
   "cell_type": "markdown",
   "metadata": {},
   "source": [
    "### Vertical"
   ]
  },
  {
   "cell_type": "code",
   "execution_count": 11,
   "metadata": {},
   "outputs": [],
   "source": [
    "ds.xroms.ddz('salt');  # Dataset"
   ]
  },
  {
   "cell_type": "code",
   "execution_count": 12,
   "metadata": {},
   "outputs": [],
   "source": [
    "ds.salt.xroms.ddz();  # DataArray"
   ]
  },
  {
   "cell_type": "code",
   "execution_count": 13,
   "metadata": {},
   "outputs": [],
   "source": [
    "xroms.ddz(ds.salt, ds.salt.attrs['grid']);  # No accessor"
   ]
  },
  {
   "cell_type": "markdown",
   "metadata": {},
   "source": [
    "There are more options available for this call:"
   ]
  },
  {
   "cell_type": "code",
   "execution_count": 14,
   "metadata": {},
   "outputs": [],
   "source": [
    "ds.xroms.ddz('salt', hcoord='psi', scoord='s_rho', sboundary='extend', sfill_value=np.nan);  # Dataset"
   ]
  },
  {
   "cell_type": "code",
   "execution_count": 15,
   "metadata": {},
   "outputs": [],
   "source": [
    "ds.salt.xroms.ddz(hcoord='psi', scoord='s_rho', sboundary='extend', sfill_value=np.nan);  # DataArray"
   ]
  },
  {
   "cell_type": "code",
   "execution_count": 16,
   "metadata": {},
   "outputs": [],
   "source": [
    "xroms.ddz(ds.salt, ds.salt.attrs['grid'], hcoord='psi', scoord='s_rho', sboundary='extend', sfill_value=np.nan);  # No accessor"
   ]
  },
  {
   "cell_type": "markdown",
   "metadata": {},
   "source": [
    "### Horizontal"
   ]
  },
  {
   "cell_type": "code",
   "execution_count": 17,
   "metadata": {},
   "outputs": [],
   "source": [
    "ds.xroms.ddxi('u');  # horizontal xi-direction gradient\n",
    "ds.xroms.ddeta('u');  #  horizontal eta-direction gradient"
   ]
  },
  {
   "cell_type": "code",
   "execution_count": 18,
   "metadata": {},
   "outputs": [],
   "source": [
    "ds.u.xroms.ddxi();\n",
    "ds.u.xroms.ddeta();"
   ]
  },
  {
   "cell_type": "code",
   "execution_count": 19,
   "metadata": {},
   "outputs": [],
   "source": [
    "dtempdxi, dtempdeta = xroms.hgrad(ds.temp, ds.temp.attrs['grid'])"
   ]
  },
  {
   "cell_type": "code",
   "execution_count": 20,
   "metadata": {},
   "outputs": [],
   "source": [
    "xroms.ddxi(ds.temp, ds.temp.attrs['grid']);\n",
    "xroms.ddeta(ds.temp, ds.temp.attrs['grid']);"
   ]
  },
  {
   "cell_type": "markdown",
   "metadata": {},
   "source": [
    "### Time\n",
    "\n",
    "Use `xarray` directly for this."
   ]
  },
  {
   "cell_type": "code",
   "execution_count": 21,
   "metadata": {},
   "outputs": [],
   "source": [
    "ddt = ds.chunk({'ocean_time': 2}).differentiate('ocean_time', datetime_unit='s')"
   ]
  },
  {
   "cell_type": "markdown",
   "metadata": {},
   "source": [
    "## Built-in Physical Calculations\n",
    "\n",
    "These are all properties of the accessor, so should be called without (). Demostrated below are the calculations using the accessor and not using the accessor."
   ]
  },
  {
   "cell_type": "markdown",
   "metadata": {},
   "source": [
    "### Horizontal speed"
   ]
  },
  {
   "cell_type": "code",
   "execution_count": 22,
   "metadata": {},
   "outputs": [],
   "source": [
    "ds.xroms.speed;"
   ]
  },
  {
   "cell_type": "code",
   "execution_count": 23,
   "metadata": {},
   "outputs": [],
   "source": [
    "xroms.speed(ds.u, ds.v, ds.u.attrs['grid']); "
   ]
  },
  {
   "cell_type": "markdown",
   "metadata": {},
   "source": [
    "### Kinetic energy"
   ]
  },
  {
   "cell_type": "code",
   "execution_count": 24,
   "metadata": {},
   "outputs": [],
   "source": [
    "ds.xroms.KE;"
   ]
  },
  {
   "cell_type": "code",
   "execution_count": 25,
   "metadata": {},
   "outputs": [],
   "source": [
    "speed = xroms.speed(ds.u, ds.v, ds.u.attrs['grid']);\n",
    "xroms.KE(ds.rho0, speed);"
   ]
  },
  {
   "cell_type": "markdown",
   "metadata": {},
   "source": [
    "### Geostrophic velocities"
   ]
  },
  {
   "cell_type": "code",
   "execution_count": 26,
   "metadata": {},
   "outputs": [],
   "source": [
    "ds.xroms.ug;\n",
    "ds.xroms.vg;"
   ]
  },
  {
   "cell_type": "code",
   "execution_count": 27,
   "metadata": {},
   "outputs": [],
   "source": [
    "ug, vg = xroms.uv_geostrophic(ds.zeta, ds.f, ds.zeta.attrs['grid']);"
   ]
  },
  {
   "cell_type": "markdown",
   "metadata": {},
   "source": [
    "### Eddy kinetic energy (EKE)"
   ]
  },
  {
   "cell_type": "code",
   "execution_count": 28,
   "metadata": {},
   "outputs": [],
   "source": [
    "ds.xroms.EKE;"
   ]
  },
  {
   "cell_type": "code",
   "execution_count": 29,
   "metadata": {},
   "outputs": [],
   "source": [
    "ug, vg = xroms.uv_geostrophic(ds.zeta, ds.f, ds.zeta.attrs['grid']);\n",
    "xroms.EKE(ug, vg, ug.attrs['grid']);"
   ]
  },
  {
   "cell_type": "markdown",
   "metadata": {},
   "source": [
    "### Vertical shear\n",
    "\n",
    "Since it is a common use case, there are specific methods to return the u and v components of vertical shear on their own grids. These are just available for Datasets."
   ]
  },
  {
   "cell_type": "code",
   "execution_count": 30,
   "metadata": {},
   "outputs": [],
   "source": [
    "ds.xroms.dudz;\n",
    "ds.xroms.dvdz;"
   ]
  },
  {
   "cell_type": "code",
   "execution_count": 31,
   "metadata": {},
   "outputs": [],
   "source": [
    "xroms.dudz(ds.u, ds.u.attrs['grid']);\n",
    "xroms.dvdz(ds.v, ds.v.attrs['grid']);"
   ]
  },
  {
   "cell_type": "markdown",
   "metadata": {},
   "source": [
    "If we want to calculate something with both, we need them on the same grid. For this, we can input the desired resultant grid:"
   ]
  },
  {
   "cell_type": "code",
   "execution_count": 32,
   "metadata": {},
   "outputs": [],
   "source": [
    "ds.xroms.dudz.xroms.to_grid(hcoord='rho', scoord='s_rho')**2 + ds.xroms.dvdz.xroms.to_grid(hcoord='rho', scoord='s_rho')**2;"
   ]
  },
  {
   "cell_type": "markdown",
   "metadata": {},
   "source": [
    "Or in this case, the magnitude of the vertical shear is also a built-in derived variable for the `xroms` accessor:"
   ]
  },
  {
   "cell_type": "code",
   "execution_count": 33,
   "metadata": {},
   "outputs": [],
   "source": [
    "ds.xroms.vertical_shear;"
   ]
  },
  {
   "cell_type": "code",
   "execution_count": 34,
   "metadata": {},
   "outputs": [],
   "source": [
    "dudz = xroms.dudz(ds.u, ds.u.attrs['grid']);\n",
    "dvdz = xroms.dvdz(ds.v, ds.v.attrs['grid']);\n",
    "xroms.vertical_shear(dudz, dvdz, dudz.attrs['grid']);"
   ]
  },
  {
   "cell_type": "markdown",
   "metadata": {},
   "source": [
    "### Vertical vorticity"
   ]
  },
  {
   "cell_type": "code",
   "execution_count": 35,
   "metadata": {},
   "outputs": [],
   "source": [
    "xroms.relative_vorticity(ds.u, ds.v, ds.u.attrs['grid']);"
   ]
  },
  {
   "cell_type": "markdown",
   "metadata": {},
   "source": [
    "### Ertel potential vorticity\n",
    "\n",
    "The accessor assumes you want the Ertel potential vorticity of the buoyancy:"
   ]
  },
  {
   "cell_type": "code",
   "execution_count": 36,
   "metadata": {},
   "outputs": [],
   "source": [
    "ds.xroms.ertel;"
   ]
  },
  {
   "cell_type": "code",
   "execution_count": 37,
   "metadata": {},
   "outputs": [],
   "source": [
    "sig0 = xroms.potential_density(ds.temp, ds.salt);\n",
    "buoyancy = xroms.buoyancy(sig0, rho0=ds.rho0);\n",
    "xroms.ertel(buoyancy, ds.u, ds.v, ds.f, ds.u.attrs['grid'], scoord='s_w');"
   ]
  },
  {
   "cell_type": "markdown",
   "metadata": {},
   "source": [
    "Alternatively, the user can access the original function and use a different tracer for this calculation, and can return the result on a different vertical grid, for example:"
   ]
  },
  {
   "cell_type": "code",
   "execution_count": 38,
   "metadata": {},
   "outputs": [],
   "source": [
    "xroms.ertel(ds.dye_01, ds.u, ds.v, ds.f, ds.u.attrs['grid'], scoord='s_w');"
   ]
  },
  {
   "cell_type": "markdown",
   "metadata": {},
   "source": [
    "### Density"
   ]
  },
  {
   "cell_type": "code",
   "execution_count": 23,
   "metadata": {},
   "outputs": [
    {
     "name": "stderr",
     "output_type": "stream",
     "text": [
      "/home/florianb/miniconda3/envs/XROMS/lib/python3.8/site-packages/dask/array/core.py:455: FutureWarning: elementwise comparison failed; returning scalar instead, but in the future will perform elementwise comparison\n",
      "  o = func(*args, **kwargs)\n"
     ]
    }
   ],
   "source": [
    "ds.xroms.rho;"
   ]
  },
  {
   "cell_type": "code",
   "execution_count": 36,
   "metadata": {},
   "outputs": [
    {
     "name": "stderr",
     "output_type": "stream",
     "text": [
      "/home/florianb/miniconda3/envs/XROMS/lib/python3.8/site-packages/dask/array/core.py:455: FutureWarning: elementwise comparison failed; returning scalar instead, but in the future will perform elementwise comparison\n",
      "  o = func(*args, **kwargs)\n"
     ]
    },
    {
     "data": {
      "text/plain": [
       "<matplotlib.collections.QuadMesh at 0x7f1364f3b910>"
      ]
     },
     "execution_count": 36,
     "metadata": {},
     "output_type": "execute_result"
    },
    {
     "data": {
      "image/png": "[encoded data removed]",
      "text/plain": [
       "<Figure size 432x288 with 2 Axes>"
      ]
     },
     "metadata": {
      "needs_background": "light"
     },
     "output_type": "display_data"
    }
   ],
   "source": [
    "xroms.density(ds.temp, ds.salt)[0].isel(s_rho = 0).plot()"
   ]
  },
  {
   "cell_type": "code",
   "execution_count": 37,
   "metadata": {},
   "outputs": [
    {
     "name": "stderr",
     "output_type": "stream",
     "text": [
      "/home/florianb/miniconda3/envs/XROMS/lib/python3.8/site-packages/dask/array/core.py:455: FutureWarning: elementwise comparison failed; returning scalar instead, but in the future will perform elementwise comparison\n",
      "  o = func(*args, **kwargs)\n"
     ]
    },
    {
     "data": {
      "text/plain": [
       "<matplotlib.collections.QuadMesh at 0x7f1364e8f340>"
      ]
     },
     "execution_count": 37,
     "metadata": {},
     "output_type": "execute_result"
    },
    {
     "data": {
      "image/png": "[encoded data removed]",
      "text/plain": [
       "<Figure size 432x288 with 2 Axes>"
      ]
     },
     "metadata": {
      "needs_background": "light"
     },
     "output_type": "display_data"
    }
   ],
   "source": [
    "xroms.density(ds.temp, ds.salt)[0].isel(s_rho = -1).plot()"
   ]
  },
  {
   "cell_type": "markdown",
   "metadata": {},
   "source": [
    "### Potential density"
   ]
  },
  {
   "cell_type": "code",
   "execution_count": 41,
   "metadata": {},
   "outputs": [],
   "source": [
    "ds.xroms.sig0;"
   ]
  },
  {
   "cell_type": "code",
   "execution_count": 42,
   "metadata": {},
   "outputs": [],
   "source": [
    "xroms.potential_density(ds.temp, ds.salt);"
   ]
  },
  {
   "cell_type": "markdown",
   "metadata": {},
   "source": [
    "### Buoyancy"
   ]
  },
  {
   "cell_type": "code",
   "execution_count": 43,
   "metadata": {},
   "outputs": [],
   "source": [
    "ds.xroms.buoyancy;"
   ]
  },
  {
   "cell_type": "code",
   "execution_count": 44,
   "metadata": {},
   "outputs": [],
   "source": [
    "sig0 = xroms.potential_density(ds.temp, ds.salt);\n",
    "xroms.buoyancy(sig0);"
   ]
  },
  {
   "cell_type": "markdown",
   "metadata": {},
   "source": [
    "### Buoyancy frequency\n",
    "\n",
    "Also called vertical buoyancy gradient."
   ]
  },
  {
   "cell_type": "code",
   "execution_count": 45,
   "metadata": {},
   "outputs": [],
   "source": [
    "ds.xroms.N2;"
   ]
  },
  {
   "cell_type": "code",
   "execution_count": 46,
   "metadata": {},
   "outputs": [],
   "source": [
    "rho = xroms.density(ds.temp, ds.salt)  # calculate rho if not in output\n",
    "xroms.N2(rho, rho.attrs['grid']);"
   ]
  },
  {
   "cell_type": "markdown",
   "metadata": {},
   "source": [
    "### Horizontal buoyancy gradient "
   ]
  },
  {
   "cell_type": "code",
   "execution_count": 47,
   "metadata": {},
   "outputs": [],
   "source": [
    "ds.xroms.M2;"
   ]
  },
  {
   "cell_type": "code",
   "execution_count": 48,
   "metadata": {},
   "outputs": [],
   "source": [
    "rho = xroms.density(ds.temp, ds.salt)  # calculate rho if not in output\n",
    "xroms.M2(rho, rho.attrs['grid']);"
   ]
  },
  {
   "cell_type": "markdown",
   "metadata": {},
   "source": [
    "### Mixed layer depth\n",
    "\n",
    "This is not a property since the threshold is a parameter."
   ]
  },
  {
   "cell_type": "code",
   "execution_count": 49,
   "metadata": {},
   "outputs": [],
   "source": [
    "ds.xroms.mld(thresh=0.03);"
   ]
  },
  {
   "cell_type": "code",
   "execution_count": 50,
   "metadata": {},
   "outputs": [],
   "source": [
    "sig0 = xroms.potential_density(ds.temp, ds.salt);\n",
    "xroms.mld(sig0, ds.h, ds.mask_rho, thresh=0.03);"
   ]
  },
  {
   "cell_type": "markdown",
   "metadata": {},
   "source": [
    "## Time-based calculations including climatologies"
   ]
  },
  {
   "cell_type": "markdown",
   "metadata": {},
   "source": [
    "### Rolling averages in time\n",
    "\n",
    "Here is an example of computing a rolling average in time.\n",
    "\n",
    "More information about rolling operations [is available](http://xarray.pydata.org/en/stable/computation.html#rolling-window-operations)."
   ]
  },
  {
   "cell_type": "code",
   "execution_count": 51,
   "metadata": {},
   "outputs": [
    {
     "name": "stderr",
     "output_type": "stream",
     "text": [
      "/Users/kthyng/opt/miniconda3/envs/env/lib/python3.8/site-packages/dask/array/numpy_compat.py:41: RuntimeWarning: invalid value encountered in true_divide\n",
      "  x = np.divide(x1, x2, out)\n"
     ]
    },
    {
     "data": {
      "text/plain": [
       "[<matplotlib.lines.Line2D at 0x172aec3d0>]"
      ]
     },
     "execution_count": 51,
     "metadata": {},
     "output_type": "execute_result"
    },
    {
     "data": {
      "image/png": "[encoded data removed]",
      "text/plain": [
       "<Figure size 432x288 with 1 Axes>"
      ]
     },
     "metadata": {
      "needs_background": "light"
     },
     "output_type": "display_data"
    }
   ],
   "source": [
    "roll = ds.salt.rolling(ocean_time=3, center=True, min_periods=2).mean()\n",
    "roll.isel(s_rho=-1, eta_rho=50, xi_rho=40).plot()\n",
    "ds.salt.isel(s_rho=-1, eta_rho=50, xi_rho=40).plot()"
   ]
  },
  {
   "cell_type": "markdown",
   "metadata": {},
   "source": [
    "### Resampling in time\n",
    "\n",
    "Can't have any chunks in the time dimension to do this. More info: http://xarray.pydata.org/en/stable/generated/xarray.Dataset.resample.html"
   ]
  },
  {
   "cell_type": "markdown",
   "metadata": {},
   "source": [
    "#### Upsample\n",
    "\n",
    "Upsample to a higher resolution in time. Makes sense to interpolate to fill in data when upsampling, but can also forward or backfill, or just add nan's."
   ]
  },
  {
   "cell_type": "code",
   "execution_count": 52,
   "metadata": {},
   "outputs": [],
   "source": [
    "dstest = ds.resample(ocean_time='30min', restore_coord_dims=True, keep_attrs=True).interpolate()"
   ]
  },
  {
   "cell_type": "markdown",
   "metadata": {},
   "source": [
    "Plot to visually inspect results"
   ]
  },
  {
   "cell_type": "code",
   "execution_count": 53,
   "metadata": {},
   "outputs": [
    {
     "data": {
      "text/plain": [
       "[<matplotlib.lines.Line2D at 0x173683d00>]"
      ]
     },
     "execution_count": 53,
     "metadata": {},
     "output_type": "execute_result"
    },
    {
     "data": {
      "image/png": "[encoded data removed]",
      "text/plain": [
       "<Figure size 432x288 with 1 Axes>"
      ]
     },
     "metadata": {
      "needs_background": "light"
     },
     "output_type": "display_data"
    }
   ],
   "source": [
    "ds.salt.cf.isel(Y=30, X=20, Z=-1, T=slice(0,10)).plot(marker='o')\n",
    "dstest.salt.cf.isel(Y=30, X=20, Z=-1).isel(ocean_time=slice(0,20)).plot(marker='x')"
   ]
  },
  {
   "cell_type": "markdown",
   "metadata": {},
   "source": [
    "#### Downsample\n",
    "\n",
    "Resample down to lower resolution in time. This requires appending a method to aggregate the extra data, such as a `mean`. Note that other options can be used to shift the result within the interval of aggregation in various ways."
   ]
  },
  {
   "cell_type": "code",
   "execution_count": 54,
   "metadata": {},
   "outputs": [],
   "source": [
    "dstest = ds.resample(ocean_time='3H').mean()"
   ]
  },
  {
   "cell_type": "code",
   "execution_count": 55,
   "metadata": {},
   "outputs": [
    {
     "name": "stderr",
     "output_type": "stream",
     "text": [
      "/Users/kthyng/opt/miniconda3/envs/env/lib/python3.8/site-packages/dask/array/numpy_compat.py:41: RuntimeWarning: invalid value encountered in true_divide\n",
      "  x = np.divide(x1, x2, out)\n"
     ]
    },
    {
     "data": {
      "text/plain": [
       "[<matplotlib.lines.Line2D at 0x1731049d0>]"
      ]
     },
     "execution_count": 55,
     "metadata": {},
     "output_type": "execute_result"
    },
    {
     "data": {
      "image/png": "[encoded data removed]",
      "text/plain": [
       "<Figure size 432x288 with 1 Axes>"
      ]
     },
     "metadata": {
      "needs_background": "light"
     },
     "output_type": "display_data"
    }
   ],
   "source": [
    "ds.salt.isel(eta_rho=30, xi_rho=20, s_rho=-1, ocean_time=slice(0,10)).plot(marker='o')\n",
    "dstest.salt.isel(eta_rho=30, xi_rho=20, s_rho=-1, ocean_time=slice(0,5)).plot(marker='x')"
   ]
  },
  {
   "cell_type": "markdown",
   "metadata": {},
   "source": [
    "#### Seasonal average, over time\n",
    "\n",
    "This is an example of [resampling](http://xarray.pydata.org/en/stable/generated/xarray.Dataset.resample.html).\n",
    "\n",
    "    da.cf.resample({'T': [time frequency string]}).reduce([aggregation function])\n",
    "    \n",
    "For example, calculate the mean temperature every quarter in time with the following:\n",
    "\n",
    "    ds.temp.cf.resample({'T': 'QS'}).reduce(np.mean)\n",
    "\n",
    "or the aggregation function can be appended on the end directly with:\n",
    "\n",
    "    ds.temp.cf.resample({'T': 'QS'}).mean()\n",
    "\n",
    "The result of this calculation is a time series of downsampled chunks of output in time, the frequency of which is selected by input \"time frequency string\", and aggregated by input \"aggregation function\".\n",
    "\n",
    "Examples of the time frequency string are:\n",
    "* \"QS\": quarters, starting in January of each year and averaging three months.\n",
    "  * Also available are selections like \"QS-DEC\", quarters but starting with December to better align with seasons. Other months are input options as well.\n",
    "* \"MS\": monthly\n",
    "* \"D\": daily\n",
    "* \"H\": hourly\n",
    "* Many more options are given [here](https://pandas.pydata.org/pandas-docs/stable/user_guide/timeseries.html#offset-aliases).\n",
    "\n",
    "Examples of aggregation functions are:\n",
    "* np.mean\n",
    "* np.max\n",
    "* np.min\n",
    "* np.sum\n",
    "* np.std\n",
    "\n",
    "Result of downsampling a 4D salt array from hourly to 6-hourly, for example, gives: `[ocean_time x s_rho x eta_rho x xi_rho]`, where `ocean_time` has about 1/6 of the number of entries reflecting the aggregation in time."
   ]
  },
  {
   "cell_type": "code",
   "execution_count": 56,
   "metadata": {},
   "outputs": [],
   "source": [
    "ds.temp.cf.resample(indexer={'T': '6H'}).reduce(np.mean);"
   ]
  },
  {
   "cell_type": "markdown",
   "metadata": {},
   "source": [
    "Use the following to calculate a seasonal or quarterly average over time (noting that this dataset has only a day worth of output so there is only 1 quarter):"
   ]
  },
  {
   "cell_type": "code",
   "execution_count": 57,
   "metadata": {},
   "outputs": [],
   "source": [
    "ds.temp.cf.resample(indexer={'T': 'QS'}).reduce(np.mean);"
   ]
  },
  {
   "cell_type": "markdown",
   "metadata": {},
   "source": [
    "### Seasonal mean over all available time\n",
    "\n",
    "This is how to average over the full dataset period by certain time groupings using xarray `groupby` which is like pandas version. In this case we show the seasonal mean averaged across the full model time period. The syntax for this is:\n",
    "\n",
    "    da.salt.cf.groupby('T.[time string]').reduce([aggregation function])\n",
    "\n",
    "For example, to average salt by season:\n",
    "\n",
    "    da.salt.cf.groupby('T.season').reduce(np.mean)\n",
    "\n",
    "or\n",
    "\n",
    "    da.salt.cf.groupby('T.season').mean()\n",
    "\n",
    "Options for the time string include:\n",
    "* 'season'\n",
    "* 'year'\n",
    "* 'month'\n",
    "* 'day'\n",
    "* 'hour'\n",
    "* 'minute'\n",
    "* 'second'\n",
    "* 'dayofyear'\n",
    "* 'week'\n",
    "* 'dayofweek'\n",
    "* 'weekday'\n",
    "* 'quarter'\n",
    "\n",
    "More information about options for time (including \"derived\" datetime coordinates) is [here](https://xarray.pydata.org/en/v0.16.0/time-series.html#datetime-components).\n",
    "\n",
    "Examples of aggregation functions are:\n",
    "* np.mean\n",
    "* np.max\n",
    "* np.min\n",
    "* np.sum\n",
    "* np.std\n",
    "\n",
    "Result of averaging over seasons for a 4D salt array returns, for example: `[season x s_rho x eta_rho x xi_rho]`, where `season` has 4 entries, each covering 3 months of the year."
   ]
  },
  {
   "cell_type": "code",
   "execution_count": 58,
   "metadata": {},
   "outputs": [],
   "source": [
    "# this example has only 1 season because it is a short example file\n",
    "ds.temp.cf.groupby('T.season').mean();"
   ]
  }
 ],
 "metadata": {
  "interpreter": {
   "hash": "3220abe0985396662bd663ddb7c0315d198a80de75f26a83241aaa8bb3591315"
  },
  "kernelspec": {
   "display_name": "Python 3.8.13 ('XROMS')",
   "language": "python",
   "name": "python3"
  },
  "language_info": {
   "codemirror_mode": {
    "name": "ipython",
    "version": 3
   },
   "file_extension": ".py",
   "mimetype": "text/x-python",
   "name": "python",
   "nbconvert_exporter": "python",
   "pygments_lexer": "ipython3",
   "version": "3.8.13"
  }
 },
 "nbformat": 4,
 "nbformat_minor": 4
}
