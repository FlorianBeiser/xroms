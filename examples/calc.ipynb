{
 "cells": [
  {
   "cell_type": "code",
   "execution_count": 5,
   "metadata": {},
   "outputs": [],
   "source": [
    "import xarray as xr\n",
    "import xgcm\n",
    "import numpy as np\n",
    "import xroms\n",
    "import matplotlib.pyplot as plt"
   ]
  },
  {
   "cell_type": "markdown",
   "metadata": {},
   "source": [
    "# How to calculate with `xarray` and `xroms`\n",
    "\n",
    "Here we demonstrate a number of calculations built into `xroms`, through accessors to `DataArrays` and `Datasets`.\n",
    "\n",
    "## `xarray` Datasets\n",
    "Use an `xarray` accessor in `xroms` to easily perform calculations with syntax \n",
    "\n",
    "    ds.xroms.[method]\n",
    "    \n",
    "Importantly, the `xroms` accessor to a `Dataset` is initialized with an `xgcm` grid object, stored at `ds.xroms.grid`, which is used to perform the basic grid calculations. More on this under \"How to set up grid\" below.\n",
    "\n",
    "The built-in native calculations are properties of the `xroms` accessor and are not functions.\n",
    "\n",
    "The accessor functions can take in the horizontal then vertical grid label you want the calculation to be on as options:\n",
    "\n",
    "    ds.xroms.ddz('u', hcoord='rho', scoord='s_rho')  # to make sure result is on rho horizontal grid and s_rho vertical grid, a function\n",
    "    \n",
    "or\n",
    "\n",
    "    ds.xroms.dudz  # return on native grid it is calculated on, a property\n",
    "\n",
    "Other inputs are available for functions when the calculation involves a derivative and there is a choice for how to treat the boundary (`hboundary` and `hfill_value` for horizontal calculations and `sboundary` and `sfill_value` for vertical calculations). More information on those inputs can be found in the docs for `xgcm` such as under found under:\n",
    "\n",
    "    ds.xroms.grid.interp?\n",
    "\n",
    "\n",
    "## `xarray` DataArrays\n",
    "\n",
    "A few of the more basic methods in `xroms` are available to `DataArrays` too. If the Dataset was read in using an `xroms` load function, any of the `DataArrays` has its grid stored in `da.attrs['grid']`. So, the built-in `xroms` methods for `DataArrays` do not require the grid object to be input.\n",
    "\n",
    "    ds.temp.xroms.to_grid(hcoord='psi', scoord='s_w')"
   ]
  },
  {
   "cell_type": "markdown",
   "metadata": {},
   "source": [
    "## Attributes\n",
    "\n",
    "The intent of `xroms` is to be use `xarray` Datasets and DataArrays for calculations. `xroms` provides attributes as metadata to track calculations, provide context, and to be used as indicators for plots. The `xgcm` grid object that is used in many calculations is also passed around as an attribute in DataArrays.\n",
    "\n",
    "The option to always keep attributes in `xarray` is turned on in the call to `xroms` because the functionality is assumed.\n",
    "\n",
    "## `cf-xarray`\n",
    "\n",
    "Some functionality is added by using the package `cf-xarray`. Necessary attributes are added to datasets read in with `open_netcdf` and `open_zarr` and added in relevant functions."
   ]
  },
  {
   "cell_type": "markdown",
   "metadata": {},
   "source": [
    "### Load in data\n",
    "\n",
    "More information at in [input/output notebook](io.ipynb)"
   ]
  },
  {
   "cell_type": "code",
   "execution_count": 6,
   "metadata": {},
   "outputs": [],
   "source": [
    "# Helpful to have local file for this\n",
    "url = 'http://barataria.tamu.edu:8080/thredds/fileServer/forecast_latest/txla2_his_a_latest.nc'\n",
    "fname = url.split('/')[-1]\n",
    "chunks = {'ocean_time': 1}\n",
    "\n",
    "import os\n",
    "if os.path.exists(fname):\n",
    "    ds = xroms.open_netcdf(fname, chunks=chunks)\n",
    "else:\n",
    "    from subprocess import call\n",
    "    call(['wget', url])\n",
    "    ds = xroms.open_netcdf(fname, chunks=chunks)\n",
    "    \n",
    "# Alternatively, use file through thredds:\n",
    "# loc = 'http://barataria.tamu.edu:8080/thredds/dodsC/forecast_latest/txla2_his_f_latest.nc'\n",
    "# chunks = {'ocean_time':1}\n",
    "# ds = xr.open_dataset(loc, chunks=chunks)"
   ]
  },
  {
   "cell_type": "markdown",
   "metadata": {},
   "source": [
    "## `xgcm` grid and extra ROMS coordinates"
   ]
  },
  {
   "cell_type": "markdown",
   "metadata": {},
   "source": [
    "### How to set up grid\n",
    "\n",
    "The package `xcgm` has many nice grid functions for ROMS users, however, a bit of set up is required to connect from ROMS to MITgcm output. This grid set up does that.\n",
    "\n",
    "The `grid` object contains metrics (X, Y, Z) with distances for each grid ('dx', 'dx_u', 'dx_v', 'dx_psi', and 'dz', 'dz_u', 'dz_v', 'dz_w', 'dz_w_u', 'dz_w_v', 'dz_psi', 'dz_w_psi'), and all of these as grid coordinates too. \n",
    "\n",
    "Coordinates are added to the dataset when `xroms.open_netcdf`, `xroms.open_mfnetcdf`, or `xroms.open_zarr` are used and the grid object is stored in the `DataArray`  attributes at `da.attrs['grid']`, and in the Dataset through the accessor (`ds.xroms.grid`).\n",
    "\n",
    "You can also explicitly set up the grid with:\n",
    "\n",
    "> ds, grid = xroms.roms_dataset(ds)\n",
    "\n",
    "This process sets up all sorts of useful coordinate variables."
   ]
  },
  {
   "cell_type": "markdown",
   "metadata": {},
   "source": [
    "### Grid lengths\n",
    "\n",
    "Distances between grid nodes on every ROMS grid are calculated in the setup process using `xroms` (that is, by reading in your output using as `xroms` load function or subsequently running `xroms.roms_dataset`). \n",
    "\n",
    "* Horizontal grids:\n",
    " * inverse distances between nodes are also given in an analogous way (*i.e.*, `ds.pm` and `ds.pn_psi`)\n",
    " * distances between nodes are given in meters by dx's and dy's stored in ds, such as: `ds.dx` for the `rho` grid and `ds.dy_psi` for the `psi` grid, calculated from inverse distances\n",
    "* Vertical grids:\n",
    " * There are lazily-evaluated z-coordinates for both `rho` and `w` vertical grids for each horizontal grid.\n",
    " * There are also arrays of z distances between nodes, called dz's, available for each combination of grids. For example, there is `ds.dz_u` for z distances on the `u` horizontal and `rho` vertical grid, and there is `ds.dz_w_v` for z distances on the `v` horizontal and `w` vertical grid. These are `[ocean_time x s_* x eta_* x xi_*]` arrays.\n",
    " * Arrays of z distances relative to a sea level of 0 are also available. They have analogous names to the previous entries but with \"0\" on the end. They are computationally faster to use because they do not vary in time. They are also less accurate for this reason but it depends on your use as to how much that matters."
   ]
  },
  {
   "cell_type": "markdown",
   "metadata": {},
   "source": [
    "### Grid areas\n",
    "\n",
    "* Horizontal\n",
    "  * rho grid `ds.dA`, psi grid `ds.dA_psi`, u grid `ds.dA_u`, v grid `ds.dA_v`\n",
    "* Vertical\n",
    "  * These aren't built in but can easily be calculated. For example, for cell areas in the x direction on the rho horizontal and rho vertical grids: `ds.dx * ds.dz`."
   ]
  },
  {
   "cell_type": "markdown",
   "metadata": {},
   "source": [
    "### Grid volumes\n",
    "\n",
    "Time varying: All 8 combinations of 4 horizontal grids and 2 vertical grids are available, such as: `ds.dV` (rho horizontal, rho vertical), and `ds.dV_w_v` (w vertical, v horizontal). \n",
    "\n",
    "A user can easily calculate the same but for time-constant dz's, for example as: \n",
    "\n",
    "    ds['dV_w'] = ds.dx * ds.dy * ds.dz_w0  # w vertical, rho horizontal, constant in time\n",
    "    \n",
    "To calculate the full domain volume in time, you can do:"
   ]
  },
  {
   "cell_type": "code",
   "execution_count": null,
   "metadata": {},
   "outputs": [],
   "source": [
    "ds.dV.sum(('s_rho', 'eta_rho', 'xi_rho'));"
   ]
  },
  {
   "cell_type": "code",
   "execution_count": null,
   "metadata": {},
   "outputs": [],
   "source": [
    "ds.dV.cf.sum(('Z', 'Y', 'X'));  # with cf-xarray accessor"
   ]
  },
  {
   "cell_type": "markdown",
   "metadata": {},
   "source": [
    "## Change grids\n",
    "\n",
    "A ROMS user frequently needs to move between horizontal and vertical grids, so it is built into many of the function wrappers, but you can also do it as a separate function. It can also be done to both `Datasets` and `DataArrays` with slightly different syntax. Here we change salinity from its default grids to be on the psi grid horizontally and the s_w grid vertically:"
   ]
  },
  {
   "cell_type": "code",
   "execution_count": null,
   "metadata": {},
   "outputs": [],
   "source": [
    "ds.xroms.to_grid('salt', 'psi', 's_w');   # Dataset\n",
    "ds.salt.xroms.to_grid('psi', 's_w');   # DataArray"
   ]
  },
  {
   "cell_type": "markdown",
   "metadata": {},
   "source": [
    "You can also go to the original `xroms` function and avoid the `xarray` accessor if you prefer, though the point of the accessor approach (that is, `ds.xroms...`) is to be easier to remember and less code to write generally."
   ]
  },
  {
   "cell_type": "code",
   "execution_count": null,
   "metadata": {},
   "outputs": [],
   "source": [
    "xroms.to_grid(ds.salt, ds.salt.attrs['grid'], hcoord='psi', scoord='s_w');"
   ]
  },
  {
   "cell_type": "code",
   "execution_count": null,
   "metadata": {},
   "outputs": [],
   "source": [
    "xroms.to_grid(ds.salt, ds.salt.attrs['grid'], hcoord='rho', scoord='w');"
   ]
  },
  {
   "cell_type": "markdown",
   "metadata": {},
   "source": [
    "## Dimension ordering convention\n",
    "\n",
    "By convention, ROMS DataArrays should be in the order ['T', 'Z', 'Y', 'X'], for however many of these dimensions they contain. The following function does this for you:"
   ]
  },
  {
   "cell_type": "code",
   "execution_count": null,
   "metadata": {},
   "outputs": [],
   "source": [
    "xroms.order(ds.temp);\n",
    "ds.temp.xroms.order();  # accessor"
   ]
  },
  {
   "cell_type": "markdown",
   "metadata": {},
   "source": [
    "## Basic computations\n",
    "\n",
    "These are all functions."
   ]
  },
  {
   "cell_type": "markdown",
   "metadata": {},
   "source": [
    "### `xarray`\n",
    "\n",
    "Many [computations](http://xarray.pydata.org/en/stable/computation.html) are built into `xarray` itself. Often it is possible to input the dimension over which to perform a computation by name, such as:\n",
    "\n",
    "    arr.sum(dim=\"xi_rho\")\n",
    "\n",
    "or \n",
    "\n",
    "    arr.sum(dim=(\"xi_rho\",\"eta_rho\"))\n",
    "\n",
    "Note that many basic `xarray` calculations should be used with caution when using with ROMS output, since a ROMS grid can be stretched both horizontally and vertically. When using these functions, consider if your calculation should account for variable grid cell distances, areas, or volumes. Additionally, it is straight-forward to use basic grid functions from `xarray` on a ROMS time dimension (resampling, differentiation, interpolation, etc), however, be careful before using these functions on spatial dimensions for the same reasons as before."
   ]
  },
  {
   "cell_type": "code",
   "execution_count": null,
   "metadata": {},
   "outputs": [],
   "source": [
    "ds.salt.mean(dim=(\"xi_rho\",\"eta_rho\"));"
   ]
  },
  {
   "cell_type": "markdown",
   "metadata": {},
   "source": [
    "`cf-xarray`"
   ]
  },
  {
   "cell_type": "code",
   "execution_count": null,
   "metadata": {},
   "outputs": [],
   "source": [
    "ds.salt.cf.mean((\"Y\",\"X\"));"
   ]
  },
  {
   "cell_type": "markdown",
   "metadata": {},
   "source": [
    "#### `xroms` grid-based metrics\n",
    "\n",
    "Spatial metrics that account for the variable grid cell sizing in ROMS (both curvilinear horizontal and s vertical) are available by wrapping `xgcm` functions. These also have the additional benefit that the user can change grids and attributes are tracked. The available functions are:\n",
    "\n",
    "* gridsum\n",
    "* gridmean\n",
    "\n",
    "Example usage:\n",
    "\n",
    "    xroms.gridsum(ds.temp, grid, dim)\n",
    "\n",
    "    ds['temp'].xroms.gridsum(dim)\n",
    "\n",
    "where dimension names in the `xgcm` convention are 'Z', 'Y', or 'X'. `dim` can be a string, list, or tuple of combinations of these names for dimensions to average over."
   ]
  },
  {
   "cell_type": "markdown",
   "metadata": {},
   "source": [
    "sum"
   ]
  },
  {
   "cell_type": "code",
   "execution_count": null,
   "metadata": {},
   "outputs": [],
   "source": [
    "ds.u.xroms.gridsum(('Y','Z'));"
   ]
  },
  {
   "cell_type": "markdown",
   "metadata": {},
   "source": [
    "mean"
   ]
  },
  {
   "cell_type": "code",
   "execution_count": null,
   "metadata": {},
   "outputs": [],
   "source": [
    "ds.v.xroms.gridmean(('Y','X'));"
   ]
  },
  {
   "cell_type": "markdown",
   "metadata": {},
   "source": [
    "## Derivatives"
   ]
  },
  {
   "cell_type": "markdown",
   "metadata": {},
   "source": [
    "### Vertical"
   ]
  },
  {
   "cell_type": "code",
   "execution_count": null,
   "metadata": {},
   "outputs": [],
   "source": [
    "ds.xroms.ddz('salt');  # Dataset"
   ]
  },
  {
   "cell_type": "code",
   "execution_count": null,
   "metadata": {},
   "outputs": [],
   "source": [
    "ds.salt.xroms.ddz();  # DataArray"
   ]
  },
  {
   "cell_type": "code",
   "execution_count": null,
   "metadata": {},
   "outputs": [],
   "source": [
    "xroms.ddz(ds.salt, ds.salt.attrs['grid']);  # No accessor"
   ]
  },
  {
   "cell_type": "markdown",
   "metadata": {},
   "source": [
    "There are more options available for this call:"
   ]
  },
  {
   "cell_type": "code",
   "execution_count": null,
   "metadata": {},
   "outputs": [],
   "source": [
    "ds.xroms.ddz('salt', hcoord='psi', scoord='s_rho', sboundary='extend', sfill_value=np.nan);  # Dataset"
   ]
  },
  {
   "cell_type": "code",
   "execution_count": null,
   "metadata": {},
   "outputs": [],
   "source": [
    "ds.salt.xroms.ddz(hcoord='psi', scoord='s_rho', sboundary='extend', sfill_value=np.nan);  # DataArray"
   ]
  },
  {
   "cell_type": "code",
   "execution_count": null,
   "metadata": {},
   "outputs": [],
   "source": [
    "xroms.ddz(ds.salt, ds.salt.attrs['grid'], hcoord='psi', scoord='s_rho', sboundary='extend', sfill_value=np.nan);  # No accessor"
   ]
  },
  {
   "cell_type": "markdown",
   "metadata": {},
   "source": [
    "### Horizontal"
   ]
  },
  {
   "cell_type": "code",
   "execution_count": null,
   "metadata": {},
   "outputs": [],
   "source": [
    "ds.xroms.ddxi('u');  # horizontal xi-direction gradient\n",
    "ds.xroms.ddeta('u');  #  horizontal eta-direction gradient"
   ]
  },
  {
   "cell_type": "code",
   "execution_count": null,
   "metadata": {},
   "outputs": [],
   "source": [
    "ds.u.xroms.ddxi();\n",
    "ds.u.xroms.ddeta();"
   ]
  },
  {
   "cell_type": "code",
   "execution_count": null,
   "metadata": {},
   "outputs": [],
   "source": [
    "dtempdxi, dtempdeta = xroms.hgrad(ds.temp, ds.temp.attrs['grid'])"
   ]
  },
  {
   "cell_type": "code",
   "execution_count": null,
   "metadata": {},
   "outputs": [],
   "source": [
    "xroms.ddxi(ds.temp, ds.temp.attrs['grid']);\n",
    "xroms.ddeta(ds.temp, ds.temp.attrs['grid']);"
   ]
  },
  {
   "cell_type": "markdown",
   "metadata": {},
   "source": [
    "### Time\n",
    "\n",
    "Use `xarray` directly for this."
   ]
  },
  {
   "cell_type": "code",
   "execution_count": null,
   "metadata": {},
   "outputs": [],
   "source": [
    "ddt = ds.chunk({'ocean_time': 2}).differentiate('ocean_time', datetime_unit='s')"
   ]
  },
  {
   "cell_type": "markdown",
   "metadata": {},
   "source": [
    "## Built-in Physical Calculations\n",
    "\n",
    "These are all properties of the accessor, so should be called without (). Demostrated below are the calculations using the accessor and not using the accessor."
   ]
  },
  {
   "cell_type": "markdown",
   "metadata": {},
   "source": [
    "### Horizontal speed"
   ]
  },
  {
   "cell_type": "code",
   "execution_count": null,
   "metadata": {},
   "outputs": [],
   "source": [
    "ds.xroms.speed;"
   ]
  },
  {
   "cell_type": "code",
   "execution_count": null,
   "metadata": {},
   "outputs": [],
   "source": [
    "xroms.speed(ds.u, ds.v, ds.u.attrs['grid']); "
   ]
  },
  {
   "cell_type": "markdown",
   "metadata": {},
   "source": [
    "### Kinetic energy"
   ]
  },
  {
   "cell_type": "code",
   "execution_count": null,
   "metadata": {},
   "outputs": [],
   "source": [
    "ds.xroms.KE;"
   ]
  },
  {
   "cell_type": "code",
   "execution_count": null,
   "metadata": {},
   "outputs": [],
   "source": [
    "speed = xroms.speed(ds.u, ds.v, ds.u.attrs['grid']);\n",
    "xroms.KE(ds.rho0, speed);"
   ]
  },
  {
   "cell_type": "markdown",
   "metadata": {},
   "source": [
    "### Geostrophic velocities"
   ]
  },
  {
   "cell_type": "code",
   "execution_count": null,
   "metadata": {},
   "outputs": [],
   "source": [
    "ds.xroms.ug;\n",
    "ds.xroms.vg;"
   ]
  },
  {
   "cell_type": "code",
   "execution_count": null,
   "metadata": {},
   "outputs": [],
   "source": [
    "ug, vg = xroms.uv_geostrophic(ds.zeta, ds.f, ds.zeta.attrs['grid']);"
   ]
  },
  {
   "cell_type": "markdown",
   "metadata": {},
   "source": [
    "### Eddy kinetic energy (EKE)"
   ]
  },
  {
   "cell_type": "code",
   "execution_count": null,
   "metadata": {},
   "outputs": [],
   "source": [
    "ds.xroms.EKE;"
   ]
  },
  {
   "cell_type": "code",
   "execution_count": null,
   "metadata": {},
   "outputs": [],
   "source": [
    "ug, vg = xroms.uv_geostrophic(ds.zeta, ds.f, ds.zeta.attrs['grid']);\n",
    "xroms.EKE(ug, vg, ug.attrs['grid']);"
   ]
  },
  {
   "cell_type": "markdown",
   "metadata": {},
   "source": [
    "### Vertical shear\n",
    "\n",
    "Since it is a common use case, there are specific methods to return the u and v components of vertical shear on their own grids. These are just available for Datasets."
   ]
  },
  {
   "cell_type": "code",
   "execution_count": null,
   "metadata": {},
   "outputs": [],
   "source": [
    "ds.xroms.dudz;\n",
    "ds.xroms.dvdz;"
   ]
  },
  {
   "cell_type": "code",
   "execution_count": null,
   "metadata": {},
   "outputs": [],
   "source": [
    "xroms.dudz(ds.u, ds.u.attrs['grid']);\n",
    "xroms.dvdz(ds.v, ds.v.attrs['grid']);"
   ]
  },
  {
   "cell_type": "markdown",
   "metadata": {},
   "source": [
    "If we want to calculate something with both, we need them on the same grid. For this, we can input the desired resultant grid:"
   ]
  },
  {
   "cell_type": "code",
   "execution_count": null,
   "metadata": {},
   "outputs": [],
   "source": [
    "ds.xroms.dudz.xroms.to_grid(hcoord='rho', scoord='s_rho')**2 + ds.xroms.dvdz.xroms.to_grid(hcoord='rho', scoord='s_rho')**2;"
   ]
  },
  {
   "cell_type": "markdown",
   "metadata": {},
   "source": [
    "Or in this case, the magnitude of the vertical shear is also a built-in derived variable for the `xroms` accessor:"
   ]
  },
  {
   "cell_type": "code",
   "execution_count": null,
   "metadata": {},
   "outputs": [],
   "source": [
    "ds.xroms.vertical_shear;"
   ]
  },
  {
   "cell_type": "code",
   "execution_count": null,
   "metadata": {},
   "outputs": [],
   "source": [
    "dudz = xroms.dudz(ds.u, ds.u.attrs['grid']);\n",
    "dvdz = xroms.dvdz(ds.v, ds.v.attrs['grid']);\n",
    "xroms.vertical_shear(dudz, dvdz, dudz.attrs['grid']);"
   ]
  },
  {
   "cell_type": "markdown",
   "metadata": {},
   "source": [
    "### Vertical vorticity"
   ]
  },
  {
   "cell_type": "code",
   "execution_count": null,
   "metadata": {},
   "outputs": [],
   "source": [
    "ds.xroms.vort;"
   ]
  },
  {
   "cell_type": "code",
   "execution_count": null,
   "metadata": {},
   "outputs": [],
   "source": [
    "xroms.relative_vorticity(ds.u, ds.v, ds.u.attrs['grid']);"
   ]
  },
  {
   "cell_type": "markdown",
   "metadata": {},
   "source": [
    "### Ertel potential vorticity\n",
    "\n",
    "The accessor assumes you want the Ertel potential vorticity of the buoyancy:"
   ]
  },
  {
   "cell_type": "code",
   "execution_count": null,
   "metadata": {},
   "outputs": [],
   "source": [
    "ds.xroms.ertel;"
   ]
  },
  {
   "cell_type": "code",
   "execution_count": null,
   "metadata": {},
   "outputs": [],
   "source": [
    "sig0 = xroms.potential_density(ds.temp, ds.salt);\n",
    "buoyancy = xroms.buoyancy(sig0, rho0=ds.rho0);\n",
    "xroms.ertel(buoyancy, ds.u, ds.v, ds.f, ds.u.attrs['grid'], scoord='s_w');"
   ]
  },
  {
   "cell_type": "markdown",
   "metadata": {},
   "source": [
    "Alternatively, the user can access the original function and use a different tracer for this calculation, and can return the result on a different vertical grid, for example:"
   ]
  },
  {
   "cell_type": "code",
   "execution_count": null,
   "metadata": {},
   "outputs": [],
   "source": [
    "xroms.ertel(ds.dye_01, ds.u, ds.v, ds.f, ds.u.attrs['grid'], scoord='s_w');"
   ]
  },
  {
   "cell_type": "markdown",
   "metadata": {},
   "source": [
    "### Density"
   ]
  },
  {
   "cell_type": "code",
   "execution_count": null,
   "metadata": {},
   "outputs": [],
   "source": [
    "ds.xroms.rho;"
   ]
  },
  {
   "cell_type": "code",
   "execution_count": null,
   "metadata": {},
   "outputs": [],
   "source": [
    "xroms.density(ds.temp, ds.salt);"
   ]
  },
  {
   "cell_type": "markdown",
   "metadata": {},
   "source": [
    "### Potential density"
   ]
  },
  {
   "cell_type": "code",
   "execution_count": null,
   "metadata": {},
   "outputs": [],
   "source": [
    "ds.xroms.sig0;"
   ]
  },
  {
   "cell_type": "code",
   "execution_count": null,
   "metadata": {},
   "outputs": [],
   "source": [
    "xroms.potential_density(ds.temp, ds.salt);"
   ]
  },
  {
   "cell_type": "markdown",
   "metadata": {},
   "source": [
    "### Buoyancy"
   ]
  },
  {
   "cell_type": "code",
   "execution_count": null,
   "metadata": {},
   "outputs": [],
   "source": [
    "ds.xroms.buoyancy;"
   ]
  },
  {
   "cell_type": "code",
   "execution_count": null,
   "metadata": {},
   "outputs": [],
   "source": [
    "sig0 = xroms.potential_density(ds.temp, ds.salt);\n",
    "xroms.buoyancy(sig0);"
   ]
  },
  {
   "cell_type": "markdown",
   "metadata": {},
   "source": [
    "### Buoyancy frequency\n",
    "\n",
    "Also called vertical buoyancy gradient."
   ]
  },
  {
   "cell_type": "code",
   "execution_count": null,
   "metadata": {},
   "outputs": [],
   "source": [
    "ds.xroms.N2;"
   ]
  },
  {
   "cell_type": "code",
   "execution_count": null,
   "metadata": {},
   "outputs": [],
   "source": [
    "rho = xroms.density(ds.temp, ds.salt)  # calculate rho if not in output\n",
    "xroms.N2(rho, rho.attrs['grid']);"
   ]
  },
  {
   "cell_type": "markdown",
   "metadata": {},
   "source": [
    "### Horizontal buoyancy gradient "
   ]
  },
  {
   "cell_type": "code",
   "execution_count": null,
   "metadata": {},
   "outputs": [],
   "source": [
    "ds.xroms.M2;"
   ]
  },
  {
   "cell_type": "code",
   "execution_count": null,
   "metadata": {},
   "outputs": [],
   "source": [
    "rho = xroms.density(ds.temp, ds.salt)  # calculate rho if not in output\n",
    "xroms.M2(rho, rho.attrs['grid']);"
   ]
  },
  {
   "cell_type": "markdown",
   "metadata": {},
   "source": [
    "### Mixed layer depth\n",
    "\n",
    "This is not a property since the threshold is a parameter."
   ]
  },
  {
   "cell_type": "code",
   "execution_count": null,
   "metadata": {},
   "outputs": [],
   "source": [
    "ds.xroms.mld(thresh=0.03);"
   ]
  },
  {
   "cell_type": "code",
   "execution_count": null,
   "metadata": {},
   "outputs": [],
   "source": [
    "sig0 = xroms.potential_density(ds.temp, ds.salt);\n",
    "xroms.mld(sig0, ds.h, ds.mask_rho, thresh=0.03);"
   ]
  },
  {
   "cell_type": "markdown",
   "metadata": {},
   "source": [
    "## Time-based calculations including climatologies"
   ]
  },
  {
   "cell_type": "markdown",
   "metadata": {},
   "source": [
    "### Rolling averages in time\n",
    "\n",
    "Here is an example of computing a rolling average in time.\n",
    "\n",
    "More information about rolling operations [is available](http://xarray.pydata.org/en/stable/computation.html#rolling-window-operations)."
   ]
  },
  {
   "cell_type": "code",
   "execution_count": null,
   "metadata": {},
   "outputs": [],
   "source": [
    "roll = ds.salt.rolling(ocean_time=3, center=True, min_periods=2).mean()\n",
    "roll.isel(s_rho=-1, eta_rho=50, xi_rho=40).plot()\n",
    "ds.salt.isel(s_rho=-1, eta_rho=50, xi_rho=40).plot()"
   ]
  },
  {
   "cell_type": "markdown",
   "metadata": {},
   "source": [
    "### Resampling in time\n",
    "\n",
    "Can't have any chunks in the time dimension to do this. More info: http://xarray.pydata.org/en/stable/generated/xarray.Dataset.resample.html"
   ]
  },
  {
   "cell_type": "markdown",
   "metadata": {},
   "source": [
    "#### Upsample\n",
    "\n",
    "Upsample to a higher resolution in time. Makes sense to interpolate to fill in data when upsampling, but can also forward or backfill, or just add nan's."
   ]
  },
  {
   "cell_type": "code",
   "execution_count": null,
   "metadata": {},
   "outputs": [],
   "source": [
    "dstest = ds.resample(ocean_time='30min', restore_coord_dims=True, keep_attrs=True).interpolate()"
   ]
  },
  {
   "cell_type": "markdown",
   "metadata": {},
   "source": [
    "Plot to visually inspect results"
   ]
  },
  {
   "cell_type": "code",
   "execution_count": null,
   "metadata": {},
   "outputs": [],
   "source": [
    "ds.salt.cf.isel(Y=30, X=20, Z=-1, T=slice(0,10)).plot(marker='o')\n",
    "dstest.salt.cf.isel(Y=30, X=20, Z=-1).isel(ocean_time=slice(0,20)).plot(marker='x')"
   ]
  },
  {
   "cell_type": "markdown",
   "metadata": {},
   "source": [
    "#### Downsample\n",
    "\n",
    "Resample down to lower resolution in time. This requires appending a method to aggregate the extra data, such as a `mean`. Note that other options can be used to shift the result within the interval of aggregation in various ways."
   ]
  },
  {
   "cell_type": "code",
   "execution_count": null,
   "metadata": {},
   "outputs": [],
   "source": [
    "dstest = ds.resample(ocean_time='3H').mean()"
   ]
  },
  {
   "cell_type": "code",
   "execution_count": null,
   "metadata": {},
   "outputs": [],
   "source": [
    "ds.salt.isel(eta_rho=30, xi_rho=20, s_rho=-1, ocean_time=slice(0,10)).plot(marker='o')\n",
    "dstest.salt.isel(eta_rho=30, xi_rho=20, s_rho=-1, ocean_time=slice(0,5)).plot(marker='x')"
   ]
  },
  {
   "cell_type": "markdown",
   "metadata": {},
   "source": [
    "#### Seasonal average, over time\n",
    "\n",
    "This is an example of [resampling](http://xarray.pydata.org/en/stable/generated/xarray.Dataset.resample.html).\n",
    "\n",
    "    da.cf.resample({'T': [time frequency string]}).reduce([aggregation function])\n",
    "    \n",
    "For example, calculate the mean temperature every quarter in time with the following:\n",
    "\n",
    "    ds.temp.cf.resample({'T': 'QS'}).reduce(np.mean)\n",
    "\n",
    "or the aggregation function can be appended on the end directly with:\n",
    "\n",
    "    ds.temp.cf.resample({'T': 'QS'}).mean()\n",
    "\n",
    "The result of this calculation is a time series of downsampled chunks of output in time, the frequency of which is selected by input \"time frequency string\", and aggregated by input \"aggregation function\".\n",
    "\n",
    "Examples of the time frequency string are:\n",
    "* \"QS\": quarters, starting in January of each year and averaging three months.\n",
    "  * Also available are selections like \"QS-DEC\", quarters but starting with December to better align with seasons. Other months are input options as well.\n",
    "* \"MS\": monthly\n",
    "* \"D\": daily\n",
    "* \"H\": hourly\n",
    "* Many more options are given [here](https://pandas.pydata.org/pandas-docs/stable/user_guide/timeseries.html#offset-aliases).\n",
    "\n",
    "Examples of aggregation functions are:\n",
    "* np.mean\n",
    "* np.max\n",
    "* np.min\n",
    "* np.sum\n",
    "* np.std\n",
    "\n",
    "Result of downsampling a 4D salt array from hourly to 6-hourly, for example, gives: `[ocean_time x s_rho x eta_rho x xi_rho]`, where `ocean_time` has about 1/6 of the number of entries reflecting the aggregation in time."
   ]
  },
  {
   "cell_type": "code",
   "execution_count": null,
   "metadata": {},
   "outputs": [],
   "source": [
    "ds.temp.cf.resample(indexer={'T': '6H'}).reduce(np.mean);"
   ]
  },
  {
   "cell_type": "markdown",
   "metadata": {},
   "source": [
    "Use the following to calculate a seasonal or quarterly average over time (noting that this dataset has only a day worth of output so there is only 1 quarter):"
   ]
  },
  {
   "cell_type": "code",
   "execution_count": null,
   "metadata": {},
   "outputs": [],
   "source": [
    "ds.temp.cf.resample(indexer={'T': 'QS'}).reduce(np.mean);"
   ]
  },
  {
   "cell_type": "markdown",
   "metadata": {},
   "source": [
    "### Seasonal mean over all available time\n",
    "\n",
    "This is how to average over the full dataset period by certain time groupings using xarray `groupby` which is like pandas version. In this case we show the seasonal mean averaged across the full model time period. The syntax for this is:\n",
    "\n",
    "    da.salt.cf.groupby('T.[time string]').reduce([aggregation function])\n",
    "\n",
    "For example, to average salt by season:\n",
    "\n",
    "    da.salt.cf.groupby('T.season').reduce(np.mean)\n",
    "\n",
    "or\n",
    "\n",
    "    da.salt.cf.groupby('T.season').mean()\n",
    "\n",
    "Options for the time string include:\n",
    "* 'season'\n",
    "* 'year'\n",
    "* 'month'\n",
    "* 'day'\n",
    "* 'hour'\n",
    "* 'minute'\n",
    "* 'second'\n",
    "* 'dayofyear'\n",
    "* 'week'\n",
    "* 'dayofweek'\n",
    "* 'weekday'\n",
    "* 'quarter'\n",
    "\n",
    "More information about options for time (including \"derived\" datetime coordinates) is [here](https://xarray.pydata.org/en/v0.16.0/time-series.html#datetime-components).\n",
    "\n",
    "Examples of aggregation functions are:\n",
    "* np.mean\n",
    "* np.max\n",
    "* np.min\n",
    "* np.sum\n",
    "* np.std\n",
    "\n",
    "Result of averaging over seasons for a 4D salt array returns, for example: `[season x s_rho x eta_rho x xi_rho]`, where `season` has 4 entries, each covering 3 months of the year."
   ]
  },
  {
   "cell_type": "code",
   "execution_count": null,
   "metadata": {},
   "outputs": [],
   "source": [
    "# this example has only 1 season because it is a short example file\n",
    "ds.temp.cf.groupby('T.season').mean();"
   ]
  }
 ],
 "metadata": {
  "kernelspec": {
   "display_name": "Python 3",
   "language": "python",
   "name": "python3"
  },
  "language_info": {
   "codemirror_mode": {
    "name": "ipython",
    "version": 3
   },
   "file_extension": ".py",
   "mimetype": "text/x-python",
   "name": "python",
   "nbconvert_exporter": "python",
   "pygments_lexer": "ipython3",
   "version": "3.8.5"
  }
 },
 "nbformat": 4,
 "nbformat_minor": 4
}
