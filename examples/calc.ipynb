{
 "cells": [
  {
   "cell_type": "code",
   "execution_count": 1,
   "metadata": {},
   "outputs": [],
   "source": [
    "import xarray as xr\n",
    "import xroms\n",
    "import numpy as np\n",
    "import matplotlib.pyplot as plt\n",
    "import cartopy\n",
    "import cmocean.cm as cmo\n",
    "import pandas as pd"
   ]
  },
  {
   "cell_type": "markdown",
   "metadata": {},
   "source": [
    "# How to calculate with `xroms`\n",
    "\n",
    "Here we demonstrate a number of calculations built into `xroms`, through accessors to `DataArrays` and `Datasets`.\n",
    "\n",
    "## `xarray` Datasets\n",
    "Use an `xarray` accessor in `xroms` to easily perform calculations with syntax \n",
    "\n",
    "    ds.xroms.[method]\n",
    "    \n",
    "Importantly, the `xroms` accessor to a `Dataset` is initialized with an `xgcm` grid object, stored at `ds.xroms.grid`, which is used to perform the basic grid calculations. More on this under \"How to set up grid\" below.\n",
    "\n",
    "Generally the built-in calculations take in the horizontal then vertical grid label you want the calculation to be on as options:\n",
    "\n",
    "    ds.xroms.dudz('rho', 's_rho')  # to make sure result is on rho horizontal grid and s_rho vertical grid\n",
    "    \n",
    "or\n",
    "\n",
    "    ds.xroms.dudz()  # return on whatever grid it is calculated on\n",
    "    \n",
    "These are not stored as properties in the accessor since they depend on the user's choice of grids, but since they are lazily evaluated, they are quick to rerun as needed.\n",
    "\n",
    "Other inputs are available for functions when the calculation involves a derivative and there is a choice for how to treat the boundary (`hboundary` and `hfill_value` for horizontal calculations and `sboundary` and `sfill_value` for vertical calculations). More information on those inputs can be found in the docs for `xgcm` such as under found under:\n",
    "\n",
    "    ds.xroms.grid.interp?\n",
    "\n",
    "\n",
    "### `xarray` DataArrays\n",
    "\n",
    "A few of the more basic methods in `xroms` are available to `DataArrays` too. Unlike a `Dataset` in `xroms`, a `DataArray` does not know about its grid (a `Dataset` has its grid information stored in `ds.xroms.grid`). So, the built-in `xroms` methods for `DataArrays` require the grid object to be input.\n",
    "\n",
    "    ds.temp.xroms.to_grid(ds.xroms.grid, hcoord='psi', scoord='s_w')"
   ]
  },
  {
   "cell_type": "markdown",
   "metadata": {},
   "source": [
    "### Load in data\n",
    "\n",
    "More information at in [load_data notebook](load_data.ipynb)"
   ]
  },
  {
   "cell_type": "code",
   "execution_count": 2,
   "metadata": {},
   "outputs": [],
   "source": [
    "loc = 'http://barataria.tamu.edu:8080/thredds/dodsC/forecast_latest/txla2_his_f_latest.nc'\n",
    "chunks = {'ocean_time':1}\n",
    "ds = xroms.open_netcdf(loc, chunks=chunks)  # also adds z coordinates"
   ]
  },
  {
   "cell_type": "markdown",
   "metadata": {},
   "source": [
    "## How to set up grid\n",
    "\n",
    "The package `xcgm` has many nice grid functions for ROMS users, however, a bit of set up is required to connect from ROMS to MITgcm output. This grid set up does that.\n",
    "\n",
    "The `grid` object contains metrics (X, Y, Z) with distances for each grid ('dx', 'dx_u', 'dx_v', 'dx_psi', and 'dz', 'dz_u', 'dz_v', 'dz_w', 'dz_w_u', 'dz_w_v', 'dz_psi', 'dz_w_psi'), and all of these as grid coordinates too. \n",
    "\n",
    "Coordinates are added to the dataset when `xroms.open_netcdf` or `xroms.open_zarr` are used. The grid object is read into the `xroms` accessor and saved in the location `ds.xroms.grid`.\n",
    "\n",
    "You can also explicitly set up the grid with:\n",
    "\n",
    "> ds, grid = xroms.roms_dataset(ds)"
   ]
  },
  {
   "cell_type": "markdown",
   "metadata": {},
   "source": [
    "## Basic functionality"
   ]
  },
  {
   "cell_type": "markdown",
   "metadata": {},
   "source": [
    "### Change grids\n",
    "\n",
    "A ROMS user frequently needs to move between horizontal and vertical grids, so it is built into many of the function wrappers, but you can also do it as a separate function. It can also be done to both `Datasets` and `DataArrays` with slightly different syntax. Here we change salinity from its default grids to be on the psi grid horizontally and the s_w grid vertically:"
   ]
  },
  {
   "cell_type": "code",
   "execution_count": 3,
   "metadata": {},
   "outputs": [],
   "source": [
    "ds.xroms.to_grid('salt', 'psi', 's_w');   # Dataset\n",
    "ds.salt.xroms.to_grid(ds.xroms.grid, 'psi', 's_w');   # DataArray"
   ]
  },
  {
   "cell_type": "markdown",
   "metadata": {},
   "source": [
    "You can also go to the original `xroms` function and avoid the `xarray` accessor if you prefer, though the point of the accessor approach (that is, `ds.xroms...`) is to be easier to remember and less code to write generally."
   ]
  },
  {
   "cell_type": "code",
   "execution_count": 4,
   "metadata": {},
   "outputs": [],
   "source": [
    "xroms.to_grid(ds.salt, ds.xroms.grid, 'psi', 's_w');"
   ]
  },
  {
   "cell_type": "markdown",
   "metadata": {},
   "source": [
    "## Calculations"
   ]
  },
  {
   "cell_type": "markdown",
   "metadata": {},
   "source": [
    "### Vertical derivative, d/dz\n",
    "\n",
    "Take a vertical derivative of a variable:"
   ]
  },
  {
   "cell_type": "code",
   "execution_count": 5,
   "metadata": {},
   "outputs": [],
   "source": [
    "ds.xroms.ddz('salt');  # Dataset"
   ]
  },
  {
   "cell_type": "code",
   "execution_count": 6,
   "metadata": {},
   "outputs": [],
   "source": [
    "ds.salt.xroms.ddz(ds.xroms.grid);  # DataArray"
   ]
  },
  {
   "cell_type": "code",
   "execution_count": 7,
   "metadata": {},
   "outputs": [],
   "source": [
    "xroms.ddz(ds.salt, ds.xroms.grid);  # No accessor"
   ]
  },
  {
   "cell_type": "markdown",
   "metadata": {},
   "source": [
    "A convenience function `calc_ddz` is also available to wrap `ddz` along with `to_grid` so that calculating a vertical derivative and changing grids can occur in one line:"
   ]
  },
  {
   "cell_type": "code",
   "execution_count": 8,
   "metadata": {},
   "outputs": [],
   "source": [
    "ds.xroms.calc_ddz('salt', 'dsaltdz', hcoord='psi', scoord='s_rho', sboundary='extend', sfill_value=np.nan);  # Dataset"
   ]
  },
  {
   "cell_type": "code",
   "execution_count": 9,
   "metadata": {},
   "outputs": [],
   "source": [
    "ds.salt.xroms.calc_ddz(ds.xroms.grid, 'dsaltdz', hcoord='psi', scoord='s_rho', sboundary='extend', sfill_value=np.nan);  # DataArray"
   ]
  },
  {
   "cell_type": "code",
   "execution_count": 10,
   "metadata": {},
   "outputs": [],
   "source": [
    "xroms.calc_ddz(ds.salt, ds.xroms.grid, 'dsaltdz', hcoord='psi', scoord='s_rho', sboundary='extend', sfill_value=np.nan);  # No accessor"
   ]
  },
  {
   "cell_type": "markdown",
   "metadata": {},
   "source": [
    "### Vertical shear\n",
    "\n",
    "Since it is a common use case, there are specific methods to return the u and v components of vertical shear on their own grids, as follows, and note that as always these functions will take in `hcoord` and `scoord` to shift grids. These are just available for Datasets."
   ]
  },
  {
   "cell_type": "code",
   "execution_count": 11,
   "metadata": {},
   "outputs": [],
   "source": [
    "ds.xroms.dudz();  "
   ]
  },
  {
   "cell_type": "code",
   "execution_count": 12,
   "metadata": {},
   "outputs": [],
   "source": [
    "ds.xroms.dvdz();"
   ]
  },
  {
   "cell_type": "markdown",
   "metadata": {},
   "source": [
    "If we want to calculate something with both, we need them on the same grid. For this, we can input the desired resultant grid:"
   ]
  },
  {
   "cell_type": "code",
   "execution_count": 13,
   "metadata": {},
   "outputs": [],
   "source": [
    "ds.xroms.dudz(hcoord='rho', scoord='s_rho')**2 + ds.xroms.dvdz(hcoord='rho', scoord='s_rho')**2;"
   ]
  },
  {
   "cell_type": "markdown",
   "metadata": {},
   "source": [
    "### density"
   ]
  },
  {
   "cell_type": "code",
   "execution_count": 14,
   "metadata": {},
   "outputs": [],
   "source": [
    "ds.xroms.get_rho();"
   ]
  },
  {
   "cell_type": "markdown",
   "metadata": {},
   "source": [
    "### buoyancy frequency"
   ]
  },
  {
   "cell_type": "code",
   "execution_count": 15,
   "metadata": {},
   "outputs": [],
   "source": [
    "ds.xroms.N2(hcoord=None, scoord='s_w', sboundary='fill', sfill_value=np.nan);"
   ]
  },
  {
   "cell_type": "markdown",
   "metadata": {},
   "source": [
    "### vertical vorticity"
   ]
  },
  {
   "cell_type": "code",
   "execution_count": 16,
   "metadata": {},
   "outputs": [],
   "source": [
    "ds.xroms.vort();"
   ]
  },
  {
   "cell_type": "markdown",
   "metadata": {},
   "source": [
    "### ertel"
   ]
  },
  {
   "cell_type": "code",
   "execution_count": 17,
   "metadata": {},
   "outputs": [],
   "source": [
    "ds.xroms.ertel();"
   ]
  }
 ],
 "metadata": {
  "kernelspec": {
   "display_name": "Python 3",
   "language": "python",
   "name": "python3"
  },
  "language_info": {
   "codemirror_mode": {
    "name": "ipython",
    "version": 3
   },
   "file_extension": ".py",
   "mimetype": "text/x-python",
   "name": "python",
   "nbconvert_exporter": "python",
   "pygments_lexer": "ipython3",
   "version": "3.7.6"
  }
 },
 "nbformat": 4,
 "nbformat_minor": 4
}
