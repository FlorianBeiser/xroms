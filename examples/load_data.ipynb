{
 "cells": [
  {
   "cell_type": "code",
   "execution_count": 1,
   "metadata": {},
   "outputs": [],
   "source": [
    "import xarray as xr\n",
    "import xroms\n",
    "from glob import glob"
   ]
  },
  {
   "cell_type": "markdown",
   "metadata": {},
   "source": [
    "# How to load data\n",
    "\n",
    "This demonstrates how to read in ROMS model output from thredds, a list of netCDF files, and a list of zarr files.\n",
    "\n",
    "Chunks are used to break up model output into smaller units for use with `dask`. Inputting chunks into a call to open a dataset requires the use of `dask`. This can be formalized more by setting up a `dask` cluster (see [dask notebook](dask.ipynb)). The best sizing of chunks is not clear *a priori* and requires some testing.\n",
    "\n",
    "A big benefit to reading in model output using one of these functions is that it also adds useful `z` coordinates to the `Dataset`, including the z coordinates on each horizontal grid (e.g., z_rho_u), and the z coordinates relative to mean sea level (e.g., z_rho0). It also by default sets up the `vert` or vertices grid which is like the psi grid but includes an extra point outside of the rho grid. These points are useful for plotting with pcolormesh for example."
   ]
  },
  {
   "cell_type": "markdown",
   "metadata": {},
   "source": [
    "## netCDF examples\n",
    "\n",
    "Model output stored in netCDF format can be read in whether it is in 1 or many files in the list locally, or available through a thredds server. Examples are shown here."
   ]
  },
  {
   "cell_type": "markdown",
   "metadata": {},
   "source": [
    "### thredds\n",
    "\n",
    "For a thredds server available at web address `url`:\n",
    "\n",
    "    ds = xroms.open_netcdf(url, chunks)\n"
   ]
  },
  {
   "cell_type": "code",
   "execution_count": 2,
   "metadata": {},
   "outputs": [],
   "source": [
    "# Forecast model output of the Texas-Louisiana shelf\n",
    "loc = 'http://barataria.tamu.edu:8080/thredds/dodsC/forecast_latest/txla2_his_f_latest.nc'\n",
    "\n",
    "# A basic chunk choice\n",
    "chunks = {'ocean_time':1}\n",
    "\n",
    "# no special xroms function required to read in from thredds\n",
    "ds = xr.open_dataset(loc, chunks=chunks)"
   ]
  },
  {
   "cell_type": "markdown",
   "metadata": {},
   "source": [
    "### list of files\n",
    "\n",
    "For a list of local netCDF files, with their `.nc` suffix, containing ROMS output:\n",
    "\n",
    "    ds = xroms.open_netcdf(files, chunks)\n",
    "\n",
    "Some reasonable selections will be automatically chosen for reading in the files.\n",
    "\n",
    "We can use test model output to demonstrate:"
   ]
  },
  {
   "cell_type": "code",
   "execution_count": 3,
   "metadata": {},
   "outputs": [],
   "source": [
    "files = glob('../tests/input/ocean_his_000?.nc')\n",
    "ds = xroms.open_netcdf(files, chunks=chunks, Vtransform=2)"
   ]
  },
  {
   "cell_type": "markdown",
   "metadata": {},
   "source": [
    "## zarr files example\n",
    "\n",
    "For a list of zarr output files, with no suffix, containing ROMS output:\n",
    "\n",
    "    ds = xroms.open_zarr(files, chunks)\n",
    "    \n",
    "Some reasonable selections will be automatically chosen for reading in the files.\n",
    "\n",
    "We can use test model output to demonstrate. We use `chunks={'ocean_time':2}` because there are two files, each with 2 time steps."
   ]
  },
  {
   "cell_type": "code",
   "execution_count": 4,
   "metadata": {},
   "outputs": [],
   "source": [
    "files = glob('../tests/input/ocean_his_000?')\n",
    "ds = xroms.open_zarr(files, chunks = {'ocean_time':2}, Vtransform=2)"
   ]
  }
 ],
 "metadata": {
  "kernelspec": {
   "display_name": "Python 3",
   "language": "python",
   "name": "python3"
  },
  "language_info": {
   "codemirror_mode": {
    "name": "ipython",
    "version": 3
   },
   "file_extension": ".py",
   "mimetype": "text/x-python",
   "name": "python",
   "nbconvert_exporter": "python",
   "pygments_lexer": "ipython3",
   "version": "3.7.6"
  }
 },
 "nbformat": 4,
 "nbformat_minor": 4
}
